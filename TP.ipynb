{
 "cells": [
  {
   "cell_type": "code",
   "execution_count": null,
   "id": "bbc8eee2",
   "metadata": {},
   "outputs": [],
   "source": [
    "import numpy as np # for arrays, Series, List, Sets\n",
    "import pandas as pd # for dataframes\n",
    "\n",
    "#- 9 meses: 26483\n",
    "#- 9 meses without package: 26006 \n",
    "#- 9 meses without cobranding: 23646 \n",
    "#- todo junto: 23191"
   ]
  },
  {
   "cell_type": "code",
   "execution_count": null,
   "id": "7d375100",
   "metadata": {},
   "outputs": [],
   "source": [
    "data = pd.read_csv('data.csv', sep='|', skipfooter=1, engine='python')"
   ]
  },
  {
   "cell_type": "code",
   "execution_count": null,
   "id": "c8afb6e8",
   "metadata": {},
   "outputs": [],
   "source": [
    "data.shape"
   ]
  },
  {
   "cell_type": "code",
   "execution_count": null,
   "id": "63fdfe81",
   "metadata": {},
   "outputs": [],
   "source": [
    "data['client_id'].nunique()"
   ]
  },
  {
   "cell_type": "code",
   "execution_count": null,
   "id": "63988c79",
   "metadata": {},
   "outputs": [],
   "source": [
    "sorted(data['Month'].unique())"
   ]
  },
  {
   "cell_type": "code",
   "execution_count": null,
   "id": "b20fe9ce",
   "metadata": {},
   "outputs": [],
   "source": [
    "client_month_counts = data.groupby('client_id')['Month'].nunique()\n",
    "print(client_month_counts)"
   ]
  },
  {
   "cell_type": "code",
   "execution_count": null,
   "id": "f20f6c46",
   "metadata": {},
   "outputs": [],
   "source": [
    "clients_with_9_months = client_month_counts[client_month_counts == 9].index\n",
    "print(clients_with_9_months.shape)"
   ]
  },
  {
   "cell_type": "code",
   "execution_count": null,
   "id": "7e2b4eba",
   "metadata": {},
   "outputs": [],
   "source": [
    "data2 = data[data['client_id'].isin(clients_with_9_months)]\n",
    "\n",
    "data2['client_id'].nunique()\n",
    "# clientes con 9 meses"
   ]
  },
  {
   "cell_type": "code",
   "execution_count": null,
   "id": "b03511e1",
   "metadata": {},
   "outputs": [],
   "source": [
    "data2.head()"
   ]
  },
  {
   "cell_type": "code",
   "execution_count": null,
   "id": "0d4f42c9",
   "metadata": {},
   "outputs": [],
   "source": [
    "data2.shape"
   ]
  },
  {
   "cell_type": "code",
   "execution_count": null,
   "id": "9853175d",
   "metadata": {},
   "outputs": [],
   "source": [
    "data2['CreditCard_CoBranding'].value_counts().reset_index()"
   ]
  },
  {
   "cell_type": "code",
   "execution_count": null,
   "id": "c55f2aa8",
   "metadata": {},
   "outputs": [],
   "source": [
    "# 6 meses training, 1 mes lead, 2 meses prediction\n",
    "mask = (data2['Month'] == '2019-01-01') & (data2['CreditCard_CoBranding'] != 'No')\n",
    "\n",
    "clients_to_remove = data2.loc[mask, 'client_id'].unique()\n",
    "\n",
    "data3 = data2[~data2['client_id'].isin(clients_to_remove)]\n",
    "\n",
    "data3['client_id'].nunique()\n",
    "# clientes sin cobranding en el mes 6"
   ]
  },
  {
   "cell_type": "code",
   "execution_count": null,
   "id": "23c09d5a",
   "metadata": {},
   "outputs": [],
   "source": [
    "data3.shape"
   ]
  },
  {
   "cell_type": "code",
   "execution_count": null,
   "id": "5fa8bfc4",
   "metadata": {},
   "outputs": [],
   "source": [
    "mask2 = (data3['Month'] == '2019-01-01') & (data3['Package_Active'] != 'No')\n",
    "\n",
    "clients_to_remove2 = data3.loc[mask2, 'client_id'].unique()\n",
    "\n",
    "data4 = data3[~data3['client_id'].isin(clients_to_remove2)]\n",
    "\n",
    "data4['client_id'].nunique()\n",
    "# clientes sin paquete ni cobranding en el mes 6"
   ]
  },
  {
   "cell_type": "code",
   "execution_count": null,
   "id": "17633737",
   "metadata": {},
   "outputs": [],
   "source": [
    "data4['Region'].value_counts(dropna=False).reset_index()\n"
   ]
  },
  {
   "cell_type": "code",
   "execution_count": null,
   "id": "d51fc266",
   "metadata": {},
   "outputs": [],
   "source": []
  },
  {
   "cell_type": "code",
   "execution_count": null,
   "id": "b55daaca",
   "metadata": {},
   "outputs": [],
   "source": [
    "data4.head()\n",
    "\n",
    "# Algunos Identity Features:\n",
    "# client_id, Month, Sex\n",
    "\n",
    "# Algunos Transform Featues:\n",
    "# Client_Age_grp, First_product_dt, Last_product_dt"
   ]
  },
  {
   "cell_type": "code",
   "execution_count": null,
   "id": "63d21279",
   "metadata": {},
   "outputs": [],
   "source": [
    "# se ven muchos clientes con region y creditProduct solo en los meses 19-3 y 19-4\n",
    "\n",
    "data5 = data4.copy()\n",
    "\n",
    "data_only_one = data5[(data5['client_id'] == 5856970)]\n",
    "data_only_one[['client_id', 'Region', 'CreditCard_Product', 'Month']]"
   ]
  },
  {
   "cell_type": "code",
   "execution_count": null,
   "id": "149d19d2",
   "metadata": {},
   "outputs": [],
   "source": [
    "# se encuentran 6 clientes que no tienen Region para ese mes\n",
    "\n",
    "data_region = data5[(data5['Month'] == '2019-04-01')]\n",
    "data_region[['Region', 'Month']].value_counts(dropna=False).reset_index()"
   ]
  },
  {
   "cell_type": "code",
   "execution_count": null,
   "id": "a6216505",
   "metadata": {},
   "outputs": [],
   "source": [
    "result_clients = data5[(data5['Month'] == '2019-04-01') & (data5['Region'].isna())]['client_id']\n",
    "result_clients\n",
    "# clientes sin regiones registradas en el mes 2019-04"
   ]
  },
  {
   "cell_type": "code",
   "execution_count": null,
   "id": "c88c944a",
   "metadata": {},
   "outputs": [],
   "source": [
    "# se transfieren las 2 regiones repetidas de cada cliente, a todo el resto de sus meses\n",
    "\n",
    "client_region_map = data5[data5['Month'] == '2019-04-01'].set_index('client_id')['Region'].to_dict()\n",
    "\n",
    "data5['Region'] = data5['client_id'].map(client_region_map)\n",
    "\n",
    "\n",
    "data_only_one = data5[(data5['client_id'] == 5856970)]\n",
    "data_only_one[['client_id', 'Region', 'CreditCard_Product', 'Month']]"
   ]
  },
  {
   "cell_type": "code",
   "execution_count": null,
   "id": "7c2d8b42",
   "metadata": {},
   "outputs": [],
   "source": [
    "# se inserta Desconocido en los 6 clientes con region desconocida\n",
    "\n",
    "data5.loc[data5['client_id'].isin(result_clients), 'Region'] = 'Desconocido'\n",
    "\n",
    "data_region2 = data5[(data5['Month'] == '2019-04-01')]\n",
    "data_region2[['Region', 'Month']].value_counts(dropna=False).reset_index()"
   ]
  },
  {
   "cell_type": "code",
   "execution_count": null,
   "id": "1fb4fcef",
   "metadata": {},
   "outputs": [],
   "source": [
    "data5['Region'].value_counts(dropna=False).reset_index()\n",
    "\n",
    "# pasa de 162349 NaN hasta 54 desconocidos"
   ]
  },
  {
   "cell_type": "code",
   "execution_count": null,
   "id": "3e0e4f2d",
   "metadata": {},
   "outputs": [],
   "source": [
    "data5[['CreditCard_Product']].value_counts(dropna=False).reset_index()"
   ]
  },
  {
   "cell_type": "code",
   "execution_count": null,
   "id": "f8189447",
   "metadata": {},
   "outputs": [],
   "source": [
    "data_credit = data5[(data5['Month'] == '2019-04-01')]\n",
    "data_credit[['CreditCard_Product', 'Month']].value_counts(dropna=False).reset_index()"
   ]
  },
  {
   "cell_type": "code",
   "execution_count": null,
   "id": "ca8932ba",
   "metadata": {},
   "outputs": [],
   "source": [
    "result_clients2 = data5[(data5['Month'] == '2019-04-01') & (data5['CreditCard_Product'].isna())]['client_id']\n",
    "result_clients2\n",
    "# clientes sin credit_product registradas en el mes 2019-04"
   ]
  },
  {
   "cell_type": "code",
   "execution_count": null,
   "id": "79c34f79",
   "metadata": {},
   "outputs": [],
   "source": [
    "# se transfieren las 2 CreditCard_Product repetidos de cada cliente, a todo el resto de sus meses\n",
    "\n",
    "data6 = data5.copy()\n",
    "\n",
    "client_credit_map = data6[data6['Month'] == '2019-04-01'].set_index('client_id')['CreditCard_Product'].to_dict()\n",
    "\n",
    "data6['CreditCard_Product'] = data6['client_id'].map(client_credit_map)\n",
    "\n",
    "\n",
    "data_only_one2 = data6[(data6['client_id'] == 5856970)]\n",
    "data_only_one2[['client_id', 'Region', 'CreditCard_Product', 'Month']]"
   ]
  },
  {
   "cell_type": "code",
   "execution_count": null,
   "id": "ea6f7176",
   "metadata": {},
   "outputs": [],
   "source": [
    "# se inserta Desconocido en los 8102 clientes con CreditCard_Product desconocido\n",
    "\n",
    "data6.loc[data6['client_id'].isin(result_clients2), 'CreditCard_Product'] = 'Desconocido'\n",
    "\n",
    "data_credit2 = data6[(data6['Month'] == '2019-04-01')]\n",
    "data_credit2[['CreditCard_Product', 'Month']].value_counts(dropna=False).reset_index()"
   ]
  },
  {
   "cell_type": "code",
   "execution_count": null,
   "id": "d8ebf7b4",
   "metadata": {},
   "outputs": [],
   "source": [
    "data6[['CreditCard_Product']].value_counts(dropna=False).reset_index()\n",
    "\n",
    "# pasa desde 178520 NaN, hasta 72918 desconocidos"
   ]
  },
  {
   "cell_type": "code",
   "execution_count": null,
   "id": "89c188af",
   "metadata": {},
   "outputs": [],
   "source": []
  }
 ],
 "metadata": {
  "kernelspec": {
   "display_name": "Python 3 (ipykernel)",
   "language": "python",
   "name": "python3"
  },
  "language_info": {
   "codemirror_mode": {
    "name": "ipython",
    "version": 3
   },
   "file_extension": ".py",
   "mimetype": "text/x-python",
   "name": "python",
   "nbconvert_exporter": "python",
   "pygments_lexer": "ipython3",
   "version": "3.11.4"
  }
 },
 "nbformat": 4,
 "nbformat_minor": 5
}
