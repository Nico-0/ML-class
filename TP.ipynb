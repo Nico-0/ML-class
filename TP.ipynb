{
 "cells": [
  {
   "cell_type": "code",
   "execution_count": null,
   "id": "bbc8eee2",
   "metadata": {},
   "outputs": [],
   "source": [
    "import numpy as np # for arrays, Series, List, Sets\n",
    "import pandas as pd # for dataframes\n",
    "\n",
    "#- 9 meses: 26483\n",
    "#- 9 meses without package: 26006 \n",
    "#- 9 meses without cobranding: 23646 \n",
    "#- todo junto: 23191"
   ]
  },
  {
   "cell_type": "code",
   "execution_count": null,
   "id": "7d375100",
   "metadata": {},
   "outputs": [],
   "source": [
    "data = pd.read_csv('data.csv', sep='|', skipfooter=1, engine='python')"
   ]
  },
  {
   "cell_type": "markdown",
   "id": "850e7400",
   "metadata": {},
   "source": [
    "# Universo de clientes"
   ]
  },
  {
   "cell_type": "code",
   "execution_count": null,
   "id": "c8afb6e8",
   "metadata": {},
   "outputs": [],
   "source": [
    "data.shape"
   ]
  },
  {
   "cell_type": "code",
   "execution_count": null,
   "id": "63fdfe81",
   "metadata": {},
   "outputs": [],
   "source": [
    "data['client_id'].nunique()"
   ]
  },
  {
   "cell_type": "code",
   "execution_count": null,
   "id": "63988c79",
   "metadata": {},
   "outputs": [],
   "source": [
    "sorted(data['Month'].unique())"
   ]
  },
  {
   "cell_type": "code",
   "execution_count": null,
   "id": "b20fe9ce",
   "metadata": {},
   "outputs": [],
   "source": [
    "client_month_counts = data.groupby('client_id')['Month'].nunique()\n",
    "print(client_month_counts)"
   ]
  },
  {
   "cell_type": "code",
   "execution_count": null,
   "id": "f20f6c46",
   "metadata": {},
   "outputs": [],
   "source": [
    "clients_with_9_months = client_month_counts[client_month_counts == 9].index\n",
    "print(clients_with_9_months.shape)"
   ]
  },
  {
   "cell_type": "code",
   "execution_count": null,
   "id": "7e2b4eba",
   "metadata": {},
   "outputs": [],
   "source": [
    "data2 = data[data['client_id'].isin(clients_with_9_months)]\n",
    "\n",
    "data2['client_id'].nunique()\n",
    "# data2: Dataframe con solo clientes con 9 meses"
   ]
  },
  {
   "cell_type": "code",
   "execution_count": null,
   "id": "b03511e1",
   "metadata": {},
   "outputs": [],
   "source": [
    "data2.head()"
   ]
  },
  {
   "cell_type": "code",
   "execution_count": null,
   "id": "0d4f42c9",
   "metadata": {},
   "outputs": [],
   "source": [
    "data2.shape"
   ]
  },
  {
   "cell_type": "code",
   "execution_count": null,
   "id": "9853175d",
   "metadata": {},
   "outputs": [],
   "source": [
    "data2['CreditCard_CoBranding'].value_counts().reset_index()"
   ]
  },
  {
   "cell_type": "code",
   "execution_count": null,
   "id": "c55f2aa8",
   "metadata": {},
   "outputs": [],
   "source": [
    "# 6 meses training, 1 mes lead, 2 meses prediction\n",
    "mask = (data2['Month'] == '2019-01-01') & (data2['CreditCard_CoBranding'] != 'No')\n",
    "\n",
    "clients_to_remove = data2.loc[mask, 'client_id'].unique()\n",
    "\n",
    "data3 = data2[~data2['client_id'].isin(clients_to_remove)]\n",
    "\n",
    "data3['client_id'].nunique()\n",
    "# data3: Dataframe con clientes sin cobranding en el mes 6. Solo clientes con 9 meses."
   ]
  },
  {
   "cell_type": "code",
   "execution_count": null,
   "id": "23c09d5a",
   "metadata": {},
   "outputs": [],
   "source": [
    "data3.shape"
   ]
  },
  {
   "cell_type": "code",
   "execution_count": null,
   "id": "5fa8bfc4",
   "metadata": {
    "scrolled": true
   },
   "outputs": [],
   "source": [
    "mask2 = (data3['Month'] == '2019-01-01') & (data3['Package_Active'] != 'No')\n",
    "\n",
    "clients_to_remove2 = data3.loc[mask2, 'client_id'].unique()\n",
    "\n",
    "data4 = data3[~data3['client_id'].isin(clients_to_remove2)]\n",
    "\n",
    "data4['client_id'].nunique()\n",
    "# data4: clientes sin paquete ni cobranding en el mes 6. Solo clientes con 9 meses."
   ]
  },
  {
   "cell_type": "markdown",
   "id": "60cdeb61",
   "metadata": {},
   "source": [
    "# Tratamiento de nulos"
   ]
  },
  {
   "cell_type": "code",
   "execution_count": null,
   "id": "17633737",
   "metadata": {
    "scrolled": true
   },
   "outputs": [],
   "source": [
    "data4['Region'].value_counts(dropna=False).reset_index()\n",
    "# detectados 162349 nulos en Region:"
   ]
  },
  {
   "cell_type": "code",
   "execution_count": null,
   "id": "d51fc266",
   "metadata": {},
   "outputs": [],
   "source": []
  },
  {
   "cell_type": "code",
   "execution_count": null,
   "id": "b55daaca",
   "metadata": {},
   "outputs": [],
   "source": [
    "data4.head()\n",
    "\n",
    "# Algunos Identity Features:\n",
    "# client_id, Month, Sex\n",
    "\n",
    "# Algunos Transform Featues:\n",
    "# Client_Age_grp, First_product_dt, Last_product_dt"
   ]
  },
  {
   "cell_type": "code",
   "execution_count": null,
   "id": "63d21279",
   "metadata": {},
   "outputs": [],
   "source": [
    "data5 = data4.copy()\n",
    "\n",
    "data_only_one = data5[(data5['client_id'] == 5856970)]\n",
    "data_only_one[['client_id', 'Region', 'CreditCard_Product', 'Month']]\n",
    "\n",
    "# se ven muchos clientes con region y creditProduct solo en los meses 2019-03 y 2019-04:"
   ]
  },
  {
   "cell_type": "code",
   "execution_count": null,
   "id": "149d19d2",
   "metadata": {},
   "outputs": [],
   "source": [
    "data_region = data5[(data5['Month'] == '2019-04-01')]\n",
    "data_region[['Region', 'Month']].value_counts(dropna=False).reset_index()\n",
    "\n",
    "# existen 6 clientes que no tienen Region para el mes 2019-04:"
   ]
  },
  {
   "cell_type": "code",
   "execution_count": null,
   "id": "a6216505",
   "metadata": {},
   "outputs": [],
   "source": [
    "result_clients = data5[(data5['Month'] == '2019-04-01') & (data5['Region'].isna())]['client_id']\n",
    "result_clients\n",
    "# clientes sin regiones registradas en el mes 2019-04"
   ]
  },
  {
   "cell_type": "code",
   "execution_count": null,
   "id": "c88c944a",
   "metadata": {},
   "outputs": [],
   "source": [
    "# se transfieren las 2 regiones repetidas de cada cliente, a todo el resto de sus meses\n",
    "# para eliminar la mayoria de nulos en Region\n",
    "\n",
    "client_region_map = data5[data5['Month'] == '2019-04-01'].set_index('client_id')['Region'].to_dict()\n",
    "\n",
    "data5['Region'] = data5['client_id'].map(client_region_map)\n",
    "\n",
    "\n",
    "data_only_one = data5[(data5['client_id'] == 5856970)]\n",
    "data_only_one[['client_id', 'Region', 'CreditCard_Product', 'Month']]"
   ]
  },
  {
   "cell_type": "code",
   "execution_count": null,
   "id": "7c2d8b42",
   "metadata": {},
   "outputs": [],
   "source": [
    "# se inserta Desconocido en los 6 clientes con region desconocida\n",
    "# para eliminar los últimos nulos en Region\n",
    "\n",
    "data5.loc[data5['client_id'].isin(result_clients), 'Region'] = 'Desconocido'\n",
    "\n",
    "data_region2 = data5[(data5['Month'] == '2019-04-01')]\n",
    "data_region2[['Region', 'Month']].value_counts(dropna=False).reset_index()"
   ]
  },
  {
   "cell_type": "code",
   "execution_count": null,
   "id": "1fb4fcef",
   "metadata": {},
   "outputs": [],
   "source": [
    "data5['Region'].value_counts(dropna=False).reset_index()\n",
    "\n",
    "# en resumen, paso de 162349 NaN, a 54 desconocidos"
   ]
  },
  {
   "cell_type": "code",
   "execution_count": null,
   "id": "3e0e4f2d",
   "metadata": {},
   "outputs": [],
   "source": [
    "# data5: Dataframe sin nulos en Region\n",
    "data5[['CreditCard_Product']].value_counts(dropna=False).reset_index()\n",
    "# detectados 178520 nulos en CreditCard_Product:"
   ]
  },
  {
   "cell_type": "code",
   "execution_count": null,
   "id": "f8189447",
   "metadata": {},
   "outputs": [],
   "source": [
    "data_credit = data5[(data5['Month'] == '2019-04-01')]\n",
    "data_credit[['CreditCard_Product', 'Month']].value_counts(dropna=False).reset_index()\n",
    "# existen 8102 clientes que no tienen CreditCard_Product para el mes 2019-04:"
   ]
  },
  {
   "cell_type": "code",
   "execution_count": null,
   "id": "ca8932ba",
   "metadata": {},
   "outputs": [],
   "source": [
    "result_clients2 = data5[(data5['Month'] == '2019-04-01') & (data5['CreditCard_Product'].isna())]['client_id']\n",
    "result_clients2\n",
    "# clientes sin credit_product registradas en el mes 2019-04:"
   ]
  },
  {
   "cell_type": "code",
   "execution_count": null,
   "id": "79c34f79",
   "metadata": {},
   "outputs": [],
   "source": [
    "# se transfieren las 2 CreditCard_Product repetidos en 2019-03 y 2019-04 de cada cliente, a todo el resto de sus meses\n",
    "\n",
    "data6 = data5.copy()\n",
    "\n",
    "client_credit_map = data6[data6['Month'] == '2019-04-01'].set_index('client_id')['CreditCard_Product'].to_dict()\n",
    "\n",
    "data6['CreditCard_Product'] = data6['client_id'].map(client_credit_map)\n",
    "\n",
    "\n",
    "data_only_one2 = data6[(data6['client_id'] == 5856970)]\n",
    "data_only_one2[['client_id', 'Region', 'CreditCard_Product', 'Month']]"
   ]
  },
  {
   "cell_type": "code",
   "execution_count": null,
   "id": "ea6f7176",
   "metadata": {},
   "outputs": [],
   "source": [
    "# se inserta Desconocido en los 8102 clientes con CreditCard_Product desconocido\n",
    "\n",
    "data6.loc[data6['client_id'].isin(result_clients2), 'CreditCard_Product'] = 'Desconocido'\n",
    "\n",
    "data_credit2 = data6[(data6['Month'] == '2019-04-01')]\n",
    "data_credit2[['CreditCard_Product', 'Month']].value_counts(dropna=False).reset_index()"
   ]
  },
  {
   "cell_type": "code",
   "execution_count": null,
   "id": "d8ebf7b4",
   "metadata": {
    "scrolled": true
   },
   "outputs": [],
   "source": [
    "data6[['CreditCard_Product']].value_counts(dropna=False).reset_index()\n",
    "\n",
    "# en resumen, paso de 178520 NaN, a 72918 desconocidos"
   ]
  },
  {
   "cell_type": "markdown",
   "id": "fb8afc84",
   "metadata": {},
   "source": [
    "# Outliers"
   ]
  },
  {
   "cell_type": "code",
   "execution_count": null,
   "id": "89c188af",
   "metadata": {},
   "outputs": [],
   "source": [
    "# data6: Dataframe sin nulos en Region ni CreditCard_Product\n",
    "\n",
    "# Checkeo de outliers\n",
    "pd.set_option('display.max_columns', None)\n",
    "data6.head()"
   ]
  },
  {
   "cell_type": "code",
   "execution_count": null,
   "id": "a05efe8b",
   "metadata": {},
   "outputs": [],
   "source": [
    "data6[['SavingAccount_Balance_FirstDate']].value_counts(dropna=False).reset_index()\n",
    "# Ejemplo de outliers en SavingAccount_Balance_FirstDate"
   ]
  },
  {
   "cell_type": "code",
   "execution_count": null,
   "id": "80996ee3",
   "metadata": {},
   "outputs": [],
   "source": [
    "data6_ordered = data6.sort_values('SavingAccount_Balance_FirstDate')\n",
    "data6_ordered[['SavingAccount_Balance_FirstDate']]"
   ]
  },
  {
   "cell_type": "code",
   "execution_count": null,
   "id": "6a6d8267",
   "metadata": {},
   "outputs": [],
   "source": [
    "data6['SavingAccount_Balance_FirstDate'].value_counts().plot(kind='box')"
   ]
  },
  {
   "cell_type": "code",
   "execution_count": null,
   "id": "48d0d90b",
   "metadata": {},
   "outputs": [],
   "source": [
    "data6['SavingAccount_Balance_FirstDate'].describe().apply(lambda x: format(x, 'f'))"
   ]
  },
  {
   "cell_type": "code",
   "execution_count": null,
   "id": "4b6d4269",
   "metadata": {},
   "outputs": [],
   "source": [
    "[x for x in data6.columns if (x.startswith('SavingAccount_') or x.startswith('Operations_') or x.startswith('CreditCard_'))]"
   ]
  },
  {
   "cell_type": "code",
   "execution_count": null,
   "id": "c6f1dd29",
   "metadata": {
    "scrolled": true
   },
   "outputs": [],
   "source": [
    "data6['CreditCard_Total_Limit'].value_counts(dropna=False).reset_index()#describe().apply(lambda x: format(x, 'f'))"
   ]
  },
  {
   "cell_type": "code",
   "execution_count": null,
   "id": "d6c4f47a",
   "metadata": {},
   "outputs": [],
   "source": []
  },
  {
   "cell_type": "markdown",
   "id": "7af8a66a",
   "metadata": {},
   "source": [
    "#### muchos valores\n",
    "CreditCard_Revolving\n",
    "CreditCard_Spending_Aut_Debits\n",
    "CreditCard_Spending_CrossBoarder\n",
    "CreditCard_Spending_Installments\n",
    "CreditCard_Spending_1_Installment\n",
    "CreditCard_Total_Spending\n",
    "CreditCard_Balance_DOLLAR\n",
    "CreditCard_Balance_ARG\n",
    "SavingAccount_Balance_Average\n",
    "SavingAccount_Balance_FirstDate\n",
    "SavingAccount_Balance_LastDate\n",
    "SavingAccount_Salary_Payment_Amount\n",
    "SavingAccount_Transfer_In_Amount\n",
    "SavingAccount_ATM_Extraction_Amount\n",
    "SavingAccount_Service_Payment_Amount\n",
    "SavingAccount_CreditCard_Payment_Amount\n",
    "SavingAccount_Transfer_Out_Amount\n",
    "SavingAccount_DebitCard_Spend_Amount\n",
    "SavingAccount_Total_Amount\n",
    "SavingAccount_Credits_Amounts\n",
    "SavingAccount_Debits_Amounts\n",
    "\n",
    "#### valores concretos grandes\n",
    "CreditCard_Total_Limit"
   ]
  },
  {
   "cell_type": "code",
   "execution_count": null,
   "id": "136df691",
   "metadata": {},
   "outputs": [],
   "source": [
    "data6['CreditCard_Total_Limit'].describe()#.apply(lambda x: format(x, 'f'))"
   ]
  },
  {
   "cell_type": "code",
   "execution_count": null,
   "id": "05855561",
   "metadata": {},
   "outputs": [],
   "source": [
    "columnas_con_outliers = [col for col in data6.columns if (data6[col].nunique() > 200) and (data6[col].dtype == 'float64')]\n",
    "print(columnas_con_outliers)\n",
    "# Detección de columnas con outliers de forma automática"
   ]
  },
  {
   "cell_type": "code",
   "execution_count": null,
   "id": "97b5f558",
   "metadata": {},
   "outputs": [],
   "source": [
    "print(len(columnas_con_outliers))"
   ]
  },
  {
   "cell_type": "code",
   "execution_count": null,
   "id": "67e738ed",
   "metadata": {},
   "outputs": [],
   "source": [
    "# data6[data6['client_id'] == 5856970][['client_id', 'Month', 'SavingAccount_Balance_Average']].reset_index()\n",
    "\n",
    "data6['SavingAccount_Balance_Average'].describe().apply(lambda x: format(x, 'f'))"
   ]
  },
  {
   "cell_type": "code",
   "execution_count": null,
   "id": "ef8722fd",
   "metadata": {
    "scrolled": true
   },
   "outputs": [],
   "source": [
    "# ejemplo de borrar outliers\n",
    "p95 = data6[data6.SavingAccount_Balance_Average > 120.0]['SavingAccount_Balance_Average'].quantile(0.95)\n",
    "p99 = data6[data6.SavingAccount_Balance_Average > 120.0]['SavingAccount_Balance_Average'].quantile(0.99)\n",
    "three_sigma = 3 * data6[data6.SavingAccount_Balance_Average > 139.4]['SavingAccount_Balance_Average'].std()\n",
    "\n",
    "print('p95\t\t', p95)\n",
    "print('p99\t\t', p99)\n",
    "print('three_sigma\t', three_sigma)"
   ]
  },
  {
   "cell_type": "code",
   "execution_count": null,
   "id": "a37b1885",
   "metadata": {},
   "outputs": [],
   "source": [
    "sin_outlier = np.where(data6['SavingAccount_Balance_Average'] > three_sigma, three_sigma, data6['SavingAccount_Balance_Average'])\n",
    "sin_outlier_df = pd.DataFrame(sin_outlier, columns=['SavingAccount_Balance_Average'])\n",
    "sin_outlier_df.describe()"
   ]
  },
  {
   "cell_type": "code",
   "execution_count": null,
   "id": "dbd4641a",
   "metadata": {},
   "outputs": [],
   "source": [
    "data7 = data6.copy()\n",
    "for column in columnas_con_outliers:\n",
    "    three_sigma = 3 * data6[data6[column] > 1][column].std()\n",
    "    data7[column] = np.where(data6[column] > three_sigma, three_sigma, data6[column])\n",
    "\n",
    "# data7: nuevo dataframe sin outliers en las 21 columnas detectadas automáticamente"
   ]
  },
  {
   "cell_type": "code",
   "execution_count": null,
   "id": "71dad6d9",
   "metadata": {},
   "outputs": [],
   "source": [
    "data7['SavingAccount_Balance_Average'].describe().apply(lambda x: format(x, 'f'))"
   ]
  },
  {
   "cell_type": "markdown",
   "id": "c8a549d7",
   "metadata": {},
   "source": [
    "data7.head()\n",
    "\n",
    "##### Identity features, columnas para pasar directamente:\n",
    "(todas en el ultimo mes de training)\n",
    "client_id\n",
    "Sex\n",
    "Region\n",
    "Mobile\n",
    "Email\n",
    "CreditCard_Product\n",
    "\n",
    "\n",
    "##### Transform features, agrupamientos, o cantidad de algo\n",
    "numero de insurance y active bools en yes. Opcional convertir a dtype bool para Numero de bools totales en yes\n",
    "Client_Age_grp, pasar a numero\n",
    "diferencia en dias de First_product_dt - Last_product_dt. Diferencia del ultimo con ultimo mes de training\n",
    "\n",
    "##### Aggregate features\n",
    "operaciones, sum avg min max etc, para 6 y para 3 meses, generadas automaticamente, para todas las numericas"
   ]
  },
  {
   "cell_type": "markdown",
   "id": "5e6e52ac",
   "metadata": {},
   "source": [
    "# Tratamiento de categóricas"
   ]
  },
  {
   "cell_type": "code",
   "execution_count": null,
   "id": "4a89a5e5",
   "metadata": {},
   "outputs": [],
   "source": [
    "data8 = data7.copy()\n",
    "sorted(data7['Client_Age_grp'].unique())"
   ]
  },
  {
   "cell_type": "code",
   "execution_count": null,
   "id": "797db715",
   "metadata": {},
   "outputs": [],
   "source": [
    "# Integer encoding para edades\n",
    "age_mapping = {\n",
    "    'Menor a 18 años': 0,\n",
    "    'Entre 18 y 29 años': 1,\n",
    "    'Entre 30 y 39 años': 2,\n",
    "    'Entre 40 y 49 años': 3,\n",
    "    'Entre 50 y 59 años': 4,\n",
    "    'Entre 60 y 64 años': 5,\n",
    "    'Entre 65 y 69 años': 6,\n",
    "    'Mayor a 70 años': 7\n",
    "}\n",
    "# data8.loc[:, 'Client_Age_grp'] = data8['Client_Age_grp'].map(age_mapping)\n",
    "data8['Client_Age_grp'] = data8['Client_Age_grp'].map(age_mapping)"
   ]
  },
  {
   "cell_type": "code",
   "execution_count": null,
   "id": "18b20086",
   "metadata": {},
   "outputs": [],
   "source": [
    "# Columnas bool a numero\n",
    "bool_columns = [\"Mobile\", \"Email\", \"CreditCard_Premium\", \"CreditCard_Active\", \"CreditCard_CoBranding\", \"Loan_Active\", \"Mortgage_Active\", \"SavingAccount_Active_ARG_Salary\", \"SavingAccount_Active_ARG\", \"SavingAccount_Active_DOLLAR\", \"DebitCard_Active\", \"Investment_Active\", \"Package_Active\", \"Insurance_Life\", \"Insurance_Home\", \"Insurance_Accidents\", \"Insurance_Mobile\", \"Insurance_ATM\", \"Insurance_Unemployment\"]\n",
    "bool_mapping = {\n",
    "    'No': 0,\n",
    "    'Yes': 1\n",
    "}\n",
    "data8[bool_columns] = data8[bool_columns].replace(bool_mapping)"
   ]
  },
  {
   "cell_type": "code",
   "execution_count": null,
   "id": "b8705eb1",
   "metadata": {},
   "outputs": [],
   "source": [
    "# Sexo\n",
    "sex_mapping = {\n",
    "    'F': 0,\n",
    "    'M': 1\n",
    "}\n",
    "data8['Sex'] = data8['Sex'].map(sex_mapping)"
   ]
  },
  {
   "cell_type": "code",
   "execution_count": null,
   "id": "d0ab0770",
   "metadata": {},
   "outputs": [],
   "source": [
    "# Faltan mapear: \n",
    "[\"Region\", \"CreditCard_Product\", \"First_product_dt\", \"Last_product_dt\"]\n",
    "# Pero requieren columnas nuevas"
   ]
  },
  {
   "cell_type": "code",
   "execution_count": null,
   "id": "5b129afe",
   "metadata": {
    "scrolled": true
   },
   "outputs": [],
   "source": [
    "data8.head()\n",
    "# data8: dataframe sin columas de texto"
   ]
  },
  {
   "cell_type": "markdown",
   "id": "1e3ac239",
   "metadata": {},
   "source": [
    "# Aggregate features por categoria"
   ]
  },
  {
   "cell_type": "code",
   "execution_count": null,
   "id": "e2dbeb02",
   "metadata": {},
   "outputs": [],
   "source": []
  },
  {
   "cell_type": "code",
   "execution_count": null,
   "id": "19c6081a",
   "metadata": {},
   "outputs": [],
   "source": [
    "# Lista de categorias:\n",
    "columns_savingAccount = [x for x in data8.columns if x.startswith('SavingAccount_')]\n",
    "columns_operations = [x for x in data8.columns if x.startswith('Operations_')]\n",
    "columns_creditCard = [x for x in data8.columns if x.startswith('CreditCard_') and x != 'CreditCard_Product']\n",
    "columns_active = [x for x in data8.columns if 'Active' in x]\n",
    "columns_insurance = [x for x in data8.columns if x.startswith('Insurance_')]\n",
    "\n",
    "# incluir tambien cada columna sin transformar\n",
    "\n",
    "# Columnas sin aggregated:\n",
    "# \tFirst_product_dt\tLast_product_dt\tSex\tClient_Age_grp\tInvestment_Numbers\tMobile\tEmail\tRegion\tCreditCard_Product"
   ]
  },
  {
   "cell_type": "code",
   "execution_count": null,
   "id": "a0e7aba6",
   "metadata": {},
   "outputs": [],
   "source": [
    "# calcular aggregate features\n",
    "\n",
    "seis_meses = ['2018-08-01',\n",
    "             '2018-09-01',\n",
    "             '2018-10-01',\n",
    "             '2018-11-01',\n",
    "             '2018-12-01',\n",
    "             '2019-01-01']\n",
    "tres_meses = ['2018-11-01',\n",
    "             '2018-12-01',\n",
    "             '2019-01-01']\n",
    "\n",
    "seis_data = data8[data8['Month'].isin(seis_meses)]\n",
    "\n",
    "# columnas_agg = [col for col in data7.columns if ((data7[col].dtype == 'float64') and (col not in (['Target', 'client_id'])))]\n",
    "\n",
    "# np.sum, np.amax, np.min, np.mean, np.median, np.count_nonzero, 'nunique', np.var\n",
    "agg_feat_savingAccount = seis_data.groupby(['client_id'])[columns_savingAccount].agg([np.sum, np.amax, np.min, np.mean, np.median, np.count_nonzero, 'nunique', np.var])\n",
    "agg_feat_operations = seis_data.groupby(['client_id'])[columns_operations].agg([np.sum, np.amax, np.min, np.mean, np.median, np.count_nonzero, 'nunique', np.var])\n",
    "agg_feat_creditCard = seis_data.groupby(['client_id'])[columns_creditCard].agg([np.sum, np.amax, np.min, np.mean, np.median, np.count_nonzero, 'nunique', np.var])\n",
    "agg_feat_active = seis_data.groupby(['client_id'])[columns_active].agg([np.sum, np.amax, np.min, np.mean, np.median, np.count_nonzero, 'nunique', np.var])\n",
    "agg_feat_insurance = seis_data.groupby(['client_id'])[columns_insurance].agg([np.sum, np.amax, np.min, np.mean, np.median, np.count_nonzero, 'nunique', np.var])\n",
    "\n",
    "\n",
    "agg_feat_savingAccount.columns = ['_seis_'.join(x) for x in np.array(agg_feat_savingAccount.columns)]\n",
    "agg_feat_operations.columns = ['_seis_'.join(x) for x in np.array(agg_feat_operations.columns)]\n",
    "agg_feat_creditCard.columns = ['_seis_'.join(x) for x in np.array(agg_feat_creditCard.columns)]\n",
    "agg_feat_active.columns = ['_seis_'.join(x) for x in np.array(agg_feat_active.columns)]\n",
    "agg_feat_insurance.columns = ['_seis_'.join(x) for x in np.array(agg_feat_insurance.columns)]\n"
   ]
  },
  {
   "cell_type": "markdown",
   "id": "a17c1630",
   "metadata": {},
   "source": [
    "### Remover  correlacionadas"
   ]
  },
  {
   "cell_type": "code",
   "execution_count": null,
   "id": "46f1c46a",
   "metadata": {
    "scrolled": false
   },
   "outputs": [],
   "source": [
    "agg_feat_savingAccount.head()"
   ]
  },
  {
   "cell_type": "code",
   "execution_count": null,
   "id": "4dbdd969",
   "metadata": {},
   "outputs": [],
   "source": [
    "print(agg_feat_savingAccount.shape)"
   ]
  },
  {
   "cell_type": "code",
   "execution_count": null,
   "id": "c599f21d",
   "metadata": {},
   "outputs": [],
   "source": [
    "def remove_highly_correlated_features(agg_feat):\n",
    "\n",
    "    agg_feat_corr = agg_feat.reset_index().copy()\n",
    "    # Create correlation matrix\n",
    "\n",
    "    corr_matrix = agg_feat_corr.drop('client_id', axis=1).corr().abs()\n",
    "\n",
    "    # Select upper triangle of correlation matrix\n",
    "\n",
    "    upper = corr_matrix.where(np.triu(np.ones(corr_matrix.shape), k=1).astype(bool)).fillna(0)\n",
    "\n",
    "    # Find features with correlation greater than 0.80\n",
    "\n",
    "    to_drop = [column for column in upper.columns if any(upper[column] > 0.80)]\n",
    "\n",
    "    #upper.reset_index().to_csv('agg_feat_corr.csv', sep='|',  header=True , encoding='ANSI', index=False)\n",
    "\n",
    "    # print(to_drop)\n",
    "\n",
    "    # Drop features \n",
    "\n",
    "    agg_feat_corr.drop(to_drop, axis=1, inplace = True)\n",
    "\n",
    "    agg_feat_corr.shape\n",
    "\n",
    "    return agg_feat_corr"
   ]
  },
  {
   "cell_type": "code",
   "execution_count": null,
   "id": "dd16c223",
   "metadata": {},
   "outputs": [],
   "source": [
    "sin_corr_savingAccount = remove_highly_correlated_features(agg_feat_savingAccount)\n",
    "sin_corr_savingAccount.shape"
   ]
  },
  {
   "cell_type": "code",
   "execution_count": null,
   "id": "d2e0b2b5",
   "metadata": {
    "scrolled": true
   },
   "outputs": [],
   "source": [
    "sin_corr_savingAccount.head()"
   ]
  },
  {
   "cell_type": "code",
   "execution_count": null,
   "id": "5c052cc4",
   "metadata": {
    "scrolled": true
   },
   "outputs": [],
   "source": [
    "print('Antes operations: ')\n",
    "print(agg_feat_operations.shape)\n",
    "print('Antes creditCard: ')\n",
    "print(agg_feat_creditCard.shape)\n",
    "print('Antes active: ')\n",
    "print(agg_feat_active.shape)\n",
    "print('Antes insurance: ')\n",
    "print(agg_feat_insurance.shape)\n",
    "print('\\n')\n",
    "\n",
    "sin_corr_operations = remove_highly_correlated_features(agg_feat_operations)\n",
    "sin_corr_creditCard = remove_highly_correlated_features(agg_feat_creditCard)\n",
    "sin_corr_active = remove_highly_correlated_features(agg_feat_active)\n",
    "sin_corr_insurance = remove_highly_correlated_features(agg_feat_insurance)\n",
    "\n",
    "print('Despues operations: ')\n",
    "print(sin_corr_operations.shape)\n",
    "print('Despues creditCard: ')\n",
    "print(sin_corr_creditCard.shape)\n",
    "print('Despues active: ')\n",
    "print(sin_corr_active.shape)\n",
    "print('Despues insurance: ')\n",
    "print(sin_corr_insurance.shape)"
   ]
  },
  {
   "cell_type": "markdown",
   "id": "cd65af42",
   "metadata": {},
   "source": [
    "### Scaler"
   ]
  },
  {
   "cell_type": "code",
   "execution_count": null,
   "id": "d1181832",
   "metadata": {},
   "outputs": [],
   "source": [
    "# correr scaler\n",
    "from sklearn.preprocessing import StandardScaler\n",
    "\n",
    "def scale_dataframe(dataframe):\n",
    "\n",
    "    model = dataframe.copy()\n",
    "    names = [x for x in model.columns if (x != 'client_id') & (x != 'Target')]\n",
    "\n",
    "    scaler = StandardScaler(copy=True)\n",
    "    scaler.fit(model[names])\n",
    "    scaled_est = scaler.transform(model[names])\n",
    "    scaled_est = pd.DataFrame(scaled_est, columns=names, index=model.index)\n",
    "\n",
    "    model.drop(names, axis=1, inplace=True)\n",
    "    model = pd.concat((model, scaled_est), axis=1, sort=False)\n",
    "    \n",
    "    return model"
   ]
  },
  {
   "cell_type": "code",
   "execution_count": null,
   "id": "813e6d51",
   "metadata": {},
   "outputs": [],
   "source": [
    "scaled_savingAccount = scale_dataframe(sin_corr_savingAccount)\n",
    "scaled_operations = scale_dataframe(sin_corr_operations)\n",
    "scaled_creditCard = scale_dataframe(sin_corr_creditCard)\n",
    "scaled_active = scale_dataframe(sin_corr_active)\n",
    "scaled_insurance = scale_dataframe(sin_corr_insurance)\n",
    "\n",
    "scaled_savingAccount.head()"
   ]
  },
  {
   "cell_type": "markdown",
   "id": "30f8c651",
   "metadata": {},
   "source": [
    "# Creacion de ABT por categoria"
   ]
  },
  {
   "cell_type": "code",
   "execution_count": null,
   "id": "d643740b",
   "metadata": {},
   "outputs": [],
   "source": [
    "ultimomes = '2019-01-01'\n",
    "data_ultimomes = data8[data8['Month'] == ultimomes].copy()\n"
   ]
  },
  {
   "cell_type": "code",
   "execution_count": null,
   "id": "b053b365",
   "metadata": {},
   "outputs": [],
   "source": [
    "\n",
    "ABT_savingAccount = pd.merge(data_ultimomes[['client_id', 'Target']], scaled_savingAccount, on='client_id', how='inner')\n",
    "ABT_operations = pd.merge(data_ultimomes[['client_id', 'Target']], scaled_operations, on='client_id', how='inner')\n",
    "ABT_creditCard = pd.merge(data_ultimomes[['client_id', 'Target']], scaled_creditCard, on='client_id', how='inner')\n",
    "ABT_active = pd.merge(data_ultimomes[['client_id', 'Target']], scaled_active, on='client_id', how='inner')\n",
    "ABT_insurance = pd.merge(data_ultimomes[['client_id', 'Target']], scaled_insurance, on='client_id', how='inner')\n",
    "\n",
    "ABT_demographics = data_ultimomes[['client_id', 'Target', 'Sex', 'Client_Age_grp', 'Mobile', 'Email', 'Investment_Numbers']]\n",
    "# First_product_dt\tLast_product_dt\t\tRegion\tCreditCard_Product"
   ]
  },
  {
   "cell_type": "code",
   "execution_count": null,
   "id": "4c94cb5a",
   "metadata": {
    "scrolled": false
   },
   "outputs": [],
   "source": [
    "ABT_insurance.head()"
   ]
  },
  {
   "cell_type": "markdown",
   "id": "3aa8bd48",
   "metadata": {},
   "source": [
    "### ABT_demographics"
   ]
  },
  {
   "cell_type": "code",
   "execution_count": null,
   "id": "5ddce715",
   "metadata": {
    "scrolled": true
   },
   "outputs": [],
   "source": [
    "ABT_demographics.head()"
   ]
  },
  {
   "cell_type": "code",
   "execution_count": null,
   "id": "925442af",
   "metadata": {},
   "outputs": [],
   "source": []
  },
  {
   "cell_type": "code",
   "execution_count": null,
   "id": "204c6bfe",
   "metadata": {},
   "outputs": [],
   "source": [
    "# carga de fechas en número\n",
    "from datetime import datetime\n",
    "\n",
    "data_ultimomes['Last_product_dt'] = pd.to_datetime(data_ultimomes['Last_product_dt'])\n",
    "data_ultimomes['First_product_dt'] = pd.to_datetime(data_ultimomes['First_product_dt'])\n",
    "\n",
    "data_ultimomes['days_last_first'] = (data_ultimomes['Last_product_dt'] - data_ultimomes['First_product_dt']).dt.days\n",
    "\n",
    "today_date = datetime.strptime(ultimomes, '%Y-%m-%d')\n",
    "data_ultimomes['days_today_last'] = (today_date - data_ultimomes['Last_product_dt']).dt.days\n",
    "data_ultimomes['days_today_last'] = data_ultimomes['days_today_last'].apply(lambda x: 0 if x < 0 else x)\n",
    "\n",
    "\n",
    "ABT_demographics = pd.merge(ABT_demographics, data_ultimomes[['client_id', 'days_last_first', 'days_today_last']], on='client_id', how='inner')\n",
    "\n",
    "ABT_demographics.head()\n"
   ]
  },
  {
   "cell_type": "code",
   "execution_count": null,
   "id": "9902558a",
   "metadata": {},
   "outputs": [],
   "source": [
    "data_ultimomes['Region'].value_counts()"
   ]
  },
  {
   "cell_type": "code",
   "execution_count": null,
   "id": "9042280a",
   "metadata": {},
   "outputs": [],
   "source": [
    "\n",
    "def target_print(df, columnName):\n",
    "    return df.groupby(columnName).agg(Clientes=('Target', 'count'), Target_1=('Target', lambda x: (x == 1).sum()), Percentage_Target=('Target', lambda x: (x == 1).sum() / x.count() * 100)).reset_index().sort_values(by='Percentage_Target', ascending=False)"
   ]
  },
  {
   "cell_type": "code",
   "execution_count": null,
   "id": "8f8ec190",
   "metadata": {},
   "outputs": [],
   "source": [
    "target_print(data_ultimomes, 'Region')"
   ]
  },
  {
   "cell_type": "code",
   "execution_count": null,
   "id": "00931ffd",
   "metadata": {
    "scrolled": false
   },
   "outputs": [],
   "source": [
    "target_print(data_ultimomes, 'CreditCard_Product')"
   ]
  },
  {
   "cell_type": "code",
   "execution_count": null,
   "id": "8723081b",
   "metadata": {},
   "outputs": [],
   "source": [
    "# Borrar rows para los onehot\n",
    "\n",
    "dummy_data = data_ultimomes[~data_ultimomes['CreditCard_Product'].isin(['Desconocido', 'J55660123XX012'])]\n",
    "dummy_data = dummy_data[~dummy_data['Region'].isin(['Desconocido'])]"
   ]
  },
  {
   "cell_type": "code",
   "execution_count": null,
   "id": "f76ab81c",
   "metadata": {},
   "outputs": [],
   "source": [
    "target_print(dummy_data, 'Region')"
   ]
  },
  {
   "cell_type": "code",
   "execution_count": null,
   "id": "4d4a4ace",
   "metadata": {
    "scrolled": true
   },
   "outputs": [],
   "source": [
    "target_print(dummy_data, 'CreditCard_Product')"
   ]
  },
  {
   "cell_type": "code",
   "execution_count": null,
   "id": "caab4c43",
   "metadata": {},
   "outputs": [],
   "source": [
    "# Las rows borradas resultaron afectar a multiples columnas, asi que no lo considero por ahora\n",
    "# Agrego una columa por cada una, porque ninguna forma de agruparlas me parece equitativa, lamentablemente quedarian un par con pocos registros"
   ]
  },
  {
   "cell_type": "code",
   "execution_count": null,
   "id": "0b60139d",
   "metadata": {},
   "outputs": [],
   "source": [
    "ABT_demographics2 = pd.get_dummies(data_ultimomes, prefix_sep=\"_dummy_\", columns=['Region', 'CreditCard_Product'], drop_first=True)"
   ]
  },
  {
   "cell_type": "code",
   "execution_count": null,
   "id": "7e5fffc3",
   "metadata": {
    "scrolled": true
   },
   "outputs": [],
   "source": [
    "columns_dummy = [x for x in ABT_demographics2.columns if 'dummy' in x]\n",
    "columns_dummy = np.append(columns_dummy, 'client_id')\n",
    "ABT_demographics2.head()\n"
   ]
  },
  {
   "cell_type": "code",
   "execution_count": null,
   "id": "f3a7397d",
   "metadata": {},
   "outputs": [],
   "source": [
    "ABT_demographics = pd.merge(ABT_demographics, ABT_demographics2[columns_dummy], on='client_id', how='inner')"
   ]
  },
  {
   "cell_type": "code",
   "execution_count": null,
   "id": "1b7fa402",
   "metadata": {
    "scrolled": true
   },
   "outputs": [],
   "source": [
    "ABT_demographics.head()"
   ]
  },
  {
   "cell_type": "code",
   "execution_count": null,
   "id": "e489804a",
   "metadata": {},
   "outputs": [],
   "source": [
    "list_ABT = ['ABT_savingAccount', 'ABT_operations', 'ABT_creditCard', 'ABT_active', 'ABT_insurance', 'ABT_demographics']\n",
    "list_ABT"
   ]
  },
  {
   "cell_type": "markdown",
   "id": "6c392645",
   "metadata": {},
   "source": [
    "# Evaluar mejores variables por categoria"
   ]
  },
  {
   "cell_type": "code",
   "execution_count": null,
   "id": "cbc99d58",
   "metadata": {},
   "outputs": [],
   "source": [
    "# evaluar mejores variables\n",
    "\n",
    "# conda install -c conda-forge lightgbm\n",
    "from scipy.stats import randint as sp_randint\n",
    "from scipy.stats import uniform as sp_uniform\n",
    "import lightgbm as lgb\n",
    "from sklearn.metrics import roc_auc_score\n",
    "\n",
    "import lightgbm as lgb\n",
    "from sklearn.model_selection import RandomizedSearchCV, GridSearchCV\n",
    "\n",
    "target_column = 'Target'"
   ]
  },
  {
   "cell_type": "code",
   "execution_count": null,
   "id": "bb0bf587",
   "metadata": {},
   "outputs": [],
   "source": []
  },
  {
   "cell_type": "code",
   "execution_count": null,
   "id": "3ede84d2",
   "metadata": {},
   "outputs": [],
   "source": [
    "def evaluar_variables(ABT_model, numerical_cols, target_column):\n",
    "\n",
    "    fit_params={#\"early_stopping_rounds\":100,\n",
    "               \"eval_metric\": 'auc',\n",
    "               \"eval_set\": [(ABT_model[numerical_cols], ABT_model[target_column])]\n",
    "                #,\"verbose\": 100\n",
    "               }\n",
    "    param_test = {'num_leaves': np.arange(5, 20, 1),\n",
    "                 'min_data_in_leaf': np.arange(10, 100, 1),\n",
    "                 'subsample': sp_uniform(loc=0.2, scale=0.8),\n",
    "                 'max_depth': np.arange(5, 20, 1),\n",
    "                 'n_estimators': np.arange(20, 100, 1)\n",
    "                 }\n",
    "    n_HP_points_to_test = 100\n",
    "\n",
    "\n",
    "    clf = lgb.LGBMClassifier(random_state=314, silent=True, metric='None', nfold=5, njobs=4, early_stopping_rounds=100)\n",
    "\n",
    "    gs = RandomizedSearchCV(estimator=clf, param_distributions=param_test,\n",
    "                           n_iter=n_HP_points_to_test,\n",
    "                           scoring='roc_auc',\n",
    "                           cv=3,\n",
    "                           refit=True,\n",
    "                           random_state=314,\n",
    "                           verbose=True,\n",
    "                           error_score='raise')\n",
    "\n",
    "    gs.fit(ABT_model[numerical_cols], ABT_model[target_column], **fit_params)\n",
    "    #feat_imp = pd.Series(gs.best_estimator_.feature_importances, index=ABT_model[numerical_cols].columns)\n",
    "    feat_imp = pd.Series(gs.best_estimator_.booster_.feature_importance(importance_type='gain'), index=ABT_model[numerical_cols].columns)\n",
    "\n",
    "    return gs, feat_imp\n"
   ]
  },
  {
   "cell_type": "code",
   "execution_count": null,
   "id": "fcfb919f",
   "metadata": {
    "scrolled": true
   },
   "outputs": [],
   "source": [
    "\n",
    "cols_savingAccount = [x for x in ABT_savingAccount.columns if (x != 'client_id') & (x != target_column)]\n",
    "gs_savingAccount, feat_savingAccount = evaluar_variables(ABT_savingAccount, cols_savingAccount, target_column)\n"
   ]
  },
  {
   "cell_type": "code",
   "execution_count": null,
   "id": "a9dbec08",
   "metadata": {},
   "outputs": [],
   "source": [
    "print(gs_savingAccount.best_estimator_.get_params())"
   ]
  },
  {
   "cell_type": "code",
   "execution_count": null,
   "id": "3e6e1734",
   "metadata": {},
   "outputs": [],
   "source": [
    "feat_savingAccount.nlargest(20).plot(kind='barh', figsize=(8, 10))"
   ]
  },
  {
   "cell_type": "code",
   "execution_count": null,
   "id": "c70ee1f3",
   "metadata": {},
   "outputs": [],
   "source": [
    "feat_savingAccount.nlargest(5)"
   ]
  },
  {
   "cell_type": "code",
   "execution_count": null,
   "id": "609ca4aa",
   "metadata": {},
   "outputs": [],
   "source": [
    "top_savingAccount = feat_savingAccount.nlargest(5).index.tolist()"
   ]
  },
  {
   "cell_type": "code",
   "execution_count": null,
   "id": "632efbca",
   "metadata": {},
   "outputs": [],
   "source": [
    "\n",
    "cols_operations = [x for x in ABT_operations.columns if (x != 'client_id') & (x != target_column)]\n",
    "gs_operations, feat_operations = evaluar_variables(ABT_operations, cols_operations, target_column)\n"
   ]
  },
  {
   "cell_type": "code",
   "execution_count": null,
   "id": "fd0dc8a6",
   "metadata": {},
   "outputs": [],
   "source": [
    "print(gs_operations.best_estimator_.get_params())"
   ]
  },
  {
   "cell_type": "code",
   "execution_count": null,
   "id": "a9542cd0",
   "metadata": {},
   "outputs": [],
   "source": [
    "\n",
    "feat_operations.nlargest(20).plot(kind='barh', figsize=(8, 10))"
   ]
  },
  {
   "cell_type": "code",
   "execution_count": null,
   "id": "b5feed5d",
   "metadata": {},
   "outputs": [],
   "source": [
    "top_operations = feat_operations.nlargest(5).index.tolist()\n",
    "feat_operations.nlargest(5)"
   ]
  },
  {
   "cell_type": "code",
   "execution_count": null,
   "id": "9ed0f373",
   "metadata": {},
   "outputs": [],
   "source": [
    "\n",
    "cols_creditCard = [x for x in ABT_creditCard.columns if (x != 'client_id') & (x != target_column)]\n",
    "gs_creditCard, feat_creditCard = evaluar_variables(ABT_creditCard, cols_creditCard, target_column)"
   ]
  },
  {
   "cell_type": "code",
   "execution_count": null,
   "id": "0e4cf4d5",
   "metadata": {},
   "outputs": [],
   "source": [
    "print(gs_creditCard.best_estimator_.get_params())"
   ]
  },
  {
   "cell_type": "code",
   "execution_count": null,
   "id": "29fc08d1",
   "metadata": {},
   "outputs": [],
   "source": [
    "feat_creditCard.nlargest(20).plot(kind='barh', figsize=(8, 10))"
   ]
  },
  {
   "cell_type": "code",
   "execution_count": null,
   "id": "0efd9b0f",
   "metadata": {},
   "outputs": [],
   "source": [
    "top_creditCard = feat_creditCard.nlargest(5).index.tolist()\n",
    "feat_creditCard.nlargest(5)"
   ]
  },
  {
   "cell_type": "code",
   "execution_count": null,
   "id": "3a55f273",
   "metadata": {},
   "outputs": [],
   "source": [
    "\n",
    "cols_active = [x for x in ABT_active.columns if (x != 'client_id') & (x != target_column)]\n",
    "gs_active, feat_active = evaluar_variables(ABT_active, cols_active, target_column)\n"
   ]
  },
  {
   "cell_type": "code",
   "execution_count": null,
   "id": "e003f5dc",
   "metadata": {},
   "outputs": [],
   "source": [
    "print(gs_active.best_estimator_.get_params())"
   ]
  },
  {
   "cell_type": "code",
   "execution_count": null,
   "id": "155d1940",
   "metadata": {},
   "outputs": [],
   "source": [
    "feat_active.nlargest(20).plot(kind='barh', figsize=(8, 10))"
   ]
  },
  {
   "cell_type": "code",
   "execution_count": null,
   "id": "4bfd3701",
   "metadata": {},
   "outputs": [],
   "source": [
    "top_active = feat_active.nlargest(3).index.tolist()\n",
    "feat_active.nlargest(3)"
   ]
  },
  {
   "cell_type": "code",
   "execution_count": null,
   "id": "74aee770",
   "metadata": {},
   "outputs": [],
   "source": [
    "\n",
    "cols_insurance = [x for x in ABT_insurance.columns if (x != 'client_id') & (x != target_column)]\n",
    "gs_insurance, feat_insurance = evaluar_variables(ABT_insurance, cols_insurance, target_column)"
   ]
  },
  {
   "cell_type": "code",
   "execution_count": null,
   "id": "44e44af0",
   "metadata": {},
   "outputs": [],
   "source": [
    "print(gs_insurance.best_estimator_.get_params())"
   ]
  },
  {
   "cell_type": "code",
   "execution_count": null,
   "id": "96fab5d9",
   "metadata": {},
   "outputs": [],
   "source": [
    "feat_insurance.nlargest(20).plot(kind='barh', figsize=(8, 10))"
   ]
  },
  {
   "cell_type": "code",
   "execution_count": null,
   "id": "db765bfc",
   "metadata": {},
   "outputs": [],
   "source": [
    "top_insurance = feat_insurance.nlargest(3).index.tolist()\n",
    "feat_insurance.nlargest(3)"
   ]
  },
  {
   "cell_type": "code",
   "execution_count": null,
   "id": "33a4c02d",
   "metadata": {},
   "outputs": [],
   "source": [
    "\n",
    "cols_demographics = [x for x in ABT_demographics.columns if (x != 'client_id') & (x != target_column)]\n",
    "gs_demographics, feat_demographics = evaluar_variables(ABT_demographics, cols_demographics, target_column)"
   ]
  },
  {
   "cell_type": "code",
   "execution_count": null,
   "id": "dc3f934f",
   "metadata": {},
   "outputs": [],
   "source": [
    "print(gs_demographics.best_estimator_.get_params())"
   ]
  },
  {
   "cell_type": "code",
   "execution_count": null,
   "id": "d04b589e",
   "metadata": {},
   "outputs": [],
   "source": [
    "feat_demographics.nlargest(20).plot(kind='barh', figsize=(8, 10))\n"
   ]
  },
  {
   "cell_type": "code",
   "execution_count": null,
   "id": "f1acaf8f",
   "metadata": {},
   "outputs": [],
   "source": [
    "top_demographics = feat_demographics.nlargest(5).index.tolist()\n",
    "feat_demographics.nlargest(5)"
   ]
  },
  {
   "cell_type": "markdown",
   "id": "a44dac24",
   "metadata": {},
   "source": [
    "## Variables seleccionadas"
   ]
  },
  {
   "cell_type": "code",
   "execution_count": null,
   "id": "6df06980",
   "metadata": {},
   "outputs": [],
   "source": [
    "print(top_savingAccount)\n",
    "print(top_operations)\n",
    "print(top_creditCard)\n",
    "print(top_active)\n",
    "print(top_insurance)\n",
    "print(top_demographics)"
   ]
  },
  {
   "cell_type": "code",
   "execution_count": null,
   "id": "9ff981a4",
   "metadata": {},
   "outputs": [],
   "source": [
    "\n",
    "ABT_final = data_ultimomes[['client_id', 'Target']]\n",
    "\n",
    "\n",
    "['ABT_savingAccount',\n",
    " 'ABT_operations',\n",
    " 'ABT_creditCard',\n",
    " 'ABT_active',\n",
    " 'ABT_insurance',\n",
    " 'ABT_demographics']\n",
    "\n",
    "ABT_final = pd.merge(ABT_final, ABT_savingAccount[np.append(top_savingAccount, 'client_id')], on='client_id', how='inner')\n",
    "ABT_final = pd.merge(ABT_final, ABT_operations[np.append(top_operations, 'client_id')], on='client_id', how='inner')\n",
    "ABT_final = pd.merge(ABT_final, ABT_creditCard[np.append(top_creditCard, 'client_id')], on='client_id', how='inner')\n",
    "ABT_final = pd.merge(ABT_final, ABT_active[np.append(top_active, 'client_id')], on='client_id', how='inner')\n",
    "ABT_final = pd.merge(ABT_final, ABT_insurance[np.append(top_insurance, 'client_id')], on='client_id', how='inner')\n",
    "ABT_final = pd.merge(ABT_final, ABT_demographics[np.append(top_demographics, 'client_id')], on='client_id', how='inner')\n",
    "ABT_final.head()"
   ]
  },
  {
   "cell_type": "code",
   "execution_count": null,
   "id": "2d25693f",
   "metadata": {},
   "outputs": [],
   "source": [
    "ABT_final.shape"
   ]
  },
  {
   "cell_type": "code",
   "execution_count": null,
   "id": "e3e2857f",
   "metadata": {},
   "outputs": [],
   "source": []
  },
  {
   "cell_type": "markdown",
   "id": "e80ecc35",
   "metadata": {},
   "source": [
    "# Bivariado"
   ]
  },
  {
   "cell_type": "code",
   "execution_count": null,
   "id": "756dc747",
   "metadata": {},
   "outputs": [],
   "source": [
    "# Rename para bivariado\n",
    "ABT = ABT_final.copy()\n",
    "ABT.rename(columns={'client_id': 'idx'}, inplace=True)\n",
    "ABT.rename(columns={'Target': 'TGT'}, inplace=True)\n",
    "ABT.head()"
   ]
  },
  {
   "cell_type": "code",
   "execution_count": null,
   "id": "7f8699cf",
   "metadata": {
    "scrolled": false
   },
   "outputs": [],
   "source": [
    "# Bivariados de las 2 top variables obtenidas luego\n",
    "\n",
    "%run ./Graficos_v2.py\n",
    "\n",
    "vars = ['idx', 'TGT', 'SavingAccount_CreditCard_Payment_Amount_seis_sum']\n",
    "\n",
    "Graficar_Variables2(ABT[vars], [], 'TGT')"
   ]
  },
  {
   "cell_type": "code",
   "execution_count": null,
   "id": "eda2b5a7",
   "metadata": {},
   "outputs": [],
   "source": [
    "%run ./Graficos_v2.py\n",
    "\n",
    "vars = ['idx', 'TGT', 'CreditCard_Product_dummy_J55660104XX012']\n",
    "\n",
    "Graficar_Variables2(ABT[vars], [], 'TGT')"
   ]
  },
  {
   "cell_type": "markdown",
   "id": "b42a3e79",
   "metadata": {},
   "source": [
    "# Split in train and Test"
   ]
  },
  {
   "cell_type": "code",
   "execution_count": null,
   "id": "d435073a",
   "metadata": {},
   "outputs": [],
   "source": [
    "top_variables = [col for col in ABT_final.columns if (col not in (['Target', 'client_id', 'CreditCard_Active_seis_sum_x', 'CreditCard_Active_seis_sum_y', 'CreditCard_Total_Spending_seis_sum']))]\n",
    "top_variables\n",
    "\n",
    "# Borro 'CreditCard_Active_seis_sum', 'CreditCard_Total_Spending_seis_sum'\n",
    "# Para que no quede una sola variable ganadora"
   ]
  },
  {
   "cell_type": "code",
   "execution_count": null,
   "id": "9e047a69",
   "metadata": {},
   "outputs": [],
   "source": [
    "\n",
    "# Split in train and Test\n",
    "from sklearn.model_selection import train_test_split\n",
    "x_train, x_test = train_test_split(ABT_final, test_size=0.3, random_state=420, stratify=ABT_final['Target'])\n",
    "\n",
    "print(x_train.Target.value_counts())\n",
    "print(x_test.Target.value_counts())"
   ]
  },
  {
   "cell_type": "code",
   "execution_count": null,
   "id": "5682dc22",
   "metadata": {
    "scrolled": false
   },
   "outputs": [],
   "source": [
    "x_train.head()"
   ]
  },
  {
   "cell_type": "code",
   "execution_count": null,
   "id": "8238b378",
   "metadata": {},
   "outputs": [],
   "source": [
    "# Balancear dataset de training\n",
    "minority_class_count = x_train['Target'].value_counts().min()\n",
    "\n",
    "undersampled_majority_class = x_train.groupby('Target').apply(lambda x: x.sample(minority_class_count)).reset_index(drop=True)\n",
    "\n",
    "print(undersampled_majority_class['Target'].value_counts())"
   ]
  },
  {
   "cell_type": "code",
   "execution_count": null,
   "id": "37481804",
   "metadata": {},
   "outputs": [],
   "source": [
    "x_train = undersampled_majority_class\n",
    "print(x_train.Target.value_counts())"
   ]
  },
  {
   "cell_type": "markdown",
   "id": "be4bcb5c",
   "metadata": {},
   "source": [
    "# Entrenar"
   ]
  },
  {
   "cell_type": "code",
   "execution_count": null,
   "id": "e829e363",
   "metadata": {},
   "outputs": [],
   "source": [
    "# Entrenar\n",
    "\n",
    "fit_params2={#\"early_stopping_rounds\":100,\n",
    "           \"eval_metric\": 'auc',\n",
    "           \"eval_set\": [(x_test[top_variables], x_test[target_column])]\n",
    "            #,\"verbose\": 100\n",
    "           }\n",
    "param_test2 = {'num_leaves': np.arange(5, 10, 1),\n",
    "             'min_child_samples': np.arange(300, 1000, 100),\n",
    "             'learning_rate': [0.05,0.1,0.2,0.3,0.4],\n",
    "             'max_depth': np.arange(1, 7, 1),\n",
    "             'n_estimators': np.arange(12, 24, 1)\n",
    "             }\n",
    "n_HP_points_to_test = 100\n",
    "\n",
    "\n",
    "clf2 = lgb.LGBMClassifier(random_state=314, silent=True, metric='None', njobs=4, early_stopping_rounds=100)\n",
    "\n",
    "gs2 = RandomizedSearchCV(estimator=clf2, param_distributions=param_test2,\n",
    "                       n_iter=n_HP_points_to_test,\n",
    "                       scoring='roc_auc',\n",
    "                       cv=3,\n",
    "                       refit=True,\n",
    "                       random_state=314,\n",
    "                       verbose=True,\n",
    "                       error_score='raise')\n",
    "\n",
    "gs2.fit(x_train[top_variables], x_train[target_column], **fit_params2)\n",
    "#feat_imp2 = pd.Series(gs2.best_estimator_.feature_importances, index=ABT_model[top_variables].columns)\n",
    "feat_imp2 = pd.Series(gs2.best_estimator_.booster_.feature_importance(importance_type='gain'), index=x_train[top_variables].columns)\n",
    "\n"
   ]
  },
  {
   "cell_type": "code",
   "execution_count": null,
   "id": "30b677f4",
   "metadata": {},
   "outputs": [],
   "source": [
    "feat_imp2.nlargest(20).plot(kind='barh', figsize=(8, 10))"
   ]
  },
  {
   "cell_type": "code",
   "execution_count": null,
   "id": "2d2b281f",
   "metadata": {},
   "outputs": [],
   "source": [
    "feat_imp2.nlargest(20)"
   ]
  },
  {
   "cell_type": "code",
   "execution_count": null,
   "id": "211656b0",
   "metadata": {},
   "outputs": [],
   "source": [
    "print(gs2.best_estimator_.get_params())"
   ]
  },
  {
   "cell_type": "markdown",
   "id": "03784752",
   "metadata": {},
   "source": [
    "# Extraer deciles"
   ]
  },
  {
   "cell_type": "code",
   "execution_count": null,
   "id": "3737a965",
   "metadata": {},
   "outputs": [],
   "source": [
    "# Scoreo la base completa con el modelo final (mejores hiperparametros)\n",
    "clf_final_train = gs2\n",
    "\n",
    "\n",
    "from sklearn.metrics import mean_squared_error\n",
    "\n",
    "probabilities_train = clf_final_train.predict_proba(x_train[top_variables])\n",
    "probabilities       = clf_final_train.predict_proba(x_test[top_variables])\n",
    "\n",
    "\n",
    "# Con esto obtenes los deciles, cantidad de personas, buenas y total, junto a la cota de probabilidad por decil para training\n",
    "\n",
    "a = pd.DataFrame(x_train[['client_id', target_column]], columns=['Target', 'client_id'])\n",
    "a = a.reset_index()\n",
    "b = pd.DataFrame(probabilities_train[:,1], columns=['Prob1'])\n",
    "\n",
    "result = pd.concat([a, b], axis=1)\n",
    "result['porc'] = result['Prob1'].rank(pct=True) * 100\n",
    "len(probabilities[:,1])\n",
    "\n",
    "result.loc[result['porc'].between(0, 10, inclusive='neither'), 'decil'] = '10'\n",
    "result.loc[result['porc'].between(10, 20, inclusive='both'), 'decil'] = '9'\n",
    "result.loc[result['porc'].between(20, 30, inclusive='neither'), 'decil'] = '8'\n",
    "result.loc[result['porc'].between(30, 40, inclusive='both'), 'decil'] = '7'\n",
    "result.loc[result['porc'].between(40, 50, inclusive='neither'), 'decil'] = '6'\n",
    "result.loc[result['porc'].between(50, 60, inclusive='both'), 'decil'] = '5'\n",
    "result.loc[result['porc'].between(60, 70, inclusive='neither'), 'decil'] = '4'\n",
    "result.loc[result['porc'].between(70, 80, inclusive='both'), 'decil'] = '3'\n",
    "result.loc[result['porc'].between(80, 90, inclusive='neither'), 'decil'] = '2'\n",
    "result.loc[result['porc'].between(90, 101, inclusive='both'), 'decil'] = '1'\n",
    "\n",
    "print(result.decil.value_counts().reset_index().sort_values(by=['decil'], key=lambda x: x.astype(int)))\n",
    "print(result[result.Target == 1].decil.value_counts().reset_index().sort_values(by=['decil'], key=lambda x: x.astype(int)))\n",
    "\n",
    "a = result.groupby('decil')['Prob1'].agg(min)\n",
    "print(a)\n"
   ]
  },
  {
   "cell_type": "code",
   "execution_count": null,
   "id": "6b6fd93a",
   "metadata": {
    "scrolled": true
   },
   "outputs": [],
   "source": [
    "\n",
    "\n",
    "# test \n",
    "\n",
    "a = pd.DataFrame(x_test[[target_column, 'client_id']], columns=['Target', 'client_id'])\n",
    "a = a.reset_index()\n",
    "b = pd.DataFrame(probabilities[:,1], columns=['Prob1'])\n",
    "\n",
    "result = pd.concat([a, b], axis=1)\n",
    "\n",
    "result['porc'] = result['Prob1'].rank(pct=True) * 100\n",
    "\n",
    "result['decil'] = np.where(result.Prob1 >= 0.700034               , 1, \n",
    "                            np.where((result.Prob1 >=  0.550300) & (result.Prob1 <  0.700034       ), 2,\n",
    "                            np.where((result.Prob1 >=  0.426470) & (result.Prob1 < 0.550300        ) , 3,\n",
    "                            np.where((result.Prob1 >=  0.317595) & (result.Prob1 < 0.426470        ), 4,\n",
    "                            np.where((result.Prob1 >=  0.225329) & (result.Prob1 < 0.317595        ), 5,\n",
    "                            np.where((result.Prob1 >=  0.161523) & (result.Prob1 < 0.225329        ), 6,\n",
    "                            np.where((result.Prob1 >=  0.084102) & (result.Prob1 < 0.161523        ) , 7,\n",
    "                            np.where((result.Prob1 >=  0.033897) & (result.Prob1 < 0.084102        ), 8,\n",
    "                            np.where((result.Prob1 >=  0.020301) & (result.Prob1 < 0.033897        ), 9,\n",
    "                            10)))))))))\n",
    "\n",
    "print(result.decil.value_counts().reset_index().sort_values(by=['decil'], key=lambda x: x.astype(int)))\n",
    "\n",
    "print(result[result.Target == 1].decil.value_counts().reset_index().sort_values(by=['decil'], key=lambda x: x.astype(int)))\n"
   ]
  },
  {
   "cell_type": "markdown",
   "id": "0edfca56",
   "metadata": {},
   "source": [
    "# ROC curve"
   ]
  },
  {
   "cell_type": "code",
   "execution_count": null,
   "id": "084176de",
   "metadata": {},
   "outputs": [],
   "source": [
    "import matplotlib.pyplot as plt\n",
    "from sklearn.metrics import roc_curve, auc\n",
    "\n",
    "probabilities_train2 = clf_final_train.predict_proba(x_train[top_variables])[:, 1]\n",
    "y_train = x_train[target_column].values\n",
    "\n",
    "fpr_train, tpr_train, thresholds_train = roc_curve(x_train[target_column], probabilities_train2)\n",
    "roc_auc_train = auc(fpr_train, tpr_train)\n",
    "\n",
    "# Calculate ROC curve for training set\n",
    "fpr_train, tpr_train, thresholds_train = roc_curve(y_train, probabilities_train2)\n",
    "roc_auc_train = auc(fpr_train, tpr_train)\n",
    "\n",
    "# Plot ROC curve\n",
    "plt.figure(figsize=(8, 8))\n",
    "plt.plot(fpr_train, tpr_train, color='darkorange', lw=2, label='Train ROC curve (area = {:.2f})'.format(roc_auc_train))\n",
    "plt.plot([0, 1], [0, 1], color='gray', lw=2, linestyle='--', label='Random')\n",
    "plt.xlabel('False Positive Rate')\n",
    "plt.ylabel('True Positive Rate')\n",
    "plt.title('Receiver Operating Characteristic (ROC) Curve')\n",
    "plt.legend(loc='lower right')\n",
    "plt.show()"
   ]
  },
  {
   "cell_type": "code",
   "execution_count": null,
   "id": "7d263ea7",
   "metadata": {},
   "outputs": [],
   "source": []
  },
  {
   "cell_type": "code",
   "execution_count": null,
   "id": "2d10c59e",
   "metadata": {},
   "outputs": [],
   "source": []
  },
  {
   "cell_type": "code",
   "execution_count": null,
   "id": "cf1906e4",
   "metadata": {},
   "outputs": [],
   "source": []
  }
 ],
 "metadata": {
  "kernelspec": {
   "display_name": "Python 3 (ipykernel)",
   "language": "python",
   "name": "python3"
  },
  "language_info": {
   "codemirror_mode": {
    "name": "ipython",
    "version": 3
   },
   "file_extension": ".py",
   "mimetype": "text/x-python",
   "name": "python",
   "nbconvert_exporter": "python",
   "pygments_lexer": "ipython3",
   "version": "3.11.4"
  }
 },
 "nbformat": 4,
 "nbformat_minor": 5
}
