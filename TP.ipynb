{
 "cells": [
  {
   "cell_type": "code",
   "execution_count": null,
   "id": "bbc8eee2",
   "metadata": {},
   "outputs": [],
   "source": [
    "import numpy as np # for arrays, Series, List, Sets\n",
    "import pandas as pd # for dataframes\n",
    "\n",
    "#- 9 meses: 26483\n",
    "#- 9 meses without package: 26006 \n",
    "#- 9 meses without cobranding: 23646 \n",
    "#- todo junto: 23191"
   ]
  },
  {
   "cell_type": "code",
   "execution_count": null,
   "id": "7d375100",
   "metadata": {},
   "outputs": [],
   "source": [
    "data = pd.read_csv('data.csv', sep='|', skipfooter=1, engine='python')"
   ]
  },
  {
   "cell_type": "code",
   "execution_count": null,
   "id": "c8afb6e8",
   "metadata": {},
   "outputs": [],
   "source": [
    "data.shape"
   ]
  },
  {
   "cell_type": "code",
   "execution_count": null,
   "id": "63fdfe81",
   "metadata": {},
   "outputs": [],
   "source": [
    "data['client_id'].nunique()"
   ]
  },
  {
   "cell_type": "code",
   "execution_count": null,
   "id": "63988c79",
   "metadata": {},
   "outputs": [],
   "source": [
    "sorted(data['Month'].unique())"
   ]
  },
  {
   "cell_type": "code",
   "execution_count": null,
   "id": "b20fe9ce",
   "metadata": {},
   "outputs": [],
   "source": [
    "client_month_counts = data.groupby('client_id')['Month'].nunique()\n",
    "print(client_month_counts)"
   ]
  },
  {
   "cell_type": "code",
   "execution_count": null,
   "id": "f20f6c46",
   "metadata": {},
   "outputs": [],
   "source": [
    "clients_with_9_months = client_month_counts[client_month_counts == 9].index\n",
    "print(clients_with_9_months.shape)"
   ]
  },
  {
   "cell_type": "code",
   "execution_count": null,
   "id": "7e2b4eba",
   "metadata": {},
   "outputs": [],
   "source": [
    "data2 = data[data['client_id'].isin(clients_with_9_months)]\n",
    "\n",
    "data2['client_id'].nunique()\n",
    "# data2: Dataframe con solo clientes con 9 meses"
   ]
  },
  {
   "cell_type": "code",
   "execution_count": null,
   "id": "b03511e1",
   "metadata": {},
   "outputs": [],
   "source": [
    "data2.head()"
   ]
  },
  {
   "cell_type": "code",
   "execution_count": null,
   "id": "0d4f42c9",
   "metadata": {},
   "outputs": [],
   "source": [
    "data2.shape"
   ]
  },
  {
   "cell_type": "code",
   "execution_count": null,
   "id": "9853175d",
   "metadata": {},
   "outputs": [],
   "source": [
    "data2['CreditCard_CoBranding'].value_counts().reset_index()"
   ]
  },
  {
   "cell_type": "code",
   "execution_count": null,
   "id": "c55f2aa8",
   "metadata": {},
   "outputs": [],
   "source": [
    "# 6 meses training, 1 mes lead, 2 meses prediction\n",
    "mask = (data2['Month'] == '2019-01-01') & (data2['CreditCard_CoBranding'] != 'No')\n",
    "\n",
    "clients_to_remove = data2.loc[mask, 'client_id'].unique()\n",
    "\n",
    "data3 = data2[~data2['client_id'].isin(clients_to_remove)]\n",
    "\n",
    "data3['client_id'].nunique()\n",
    "# data3: Dataframe con clientes sin cobranding en el mes 6. Solo clientes con 9 meses."
   ]
  },
  {
   "cell_type": "code",
   "execution_count": null,
   "id": "23c09d5a",
   "metadata": {},
   "outputs": [],
   "source": [
    "data3.shape"
   ]
  },
  {
   "cell_type": "code",
   "execution_count": null,
   "id": "5fa8bfc4",
   "metadata": {},
   "outputs": [],
   "source": [
    "mask2 = (data3['Month'] == '2019-01-01') & (data3['Package_Active'] != 'No')\n",
    "\n",
    "clients_to_remove2 = data3.loc[mask2, 'client_id'].unique()\n",
    "\n",
    "data4 = data3[~data3['client_id'].isin(clients_to_remove2)]\n",
    "\n",
    "data4['client_id'].nunique()\n",
    "# data4: clientes sin paquete ni cobranding en el mes 6. Solo clientes con 9 meses."
   ]
  },
  {
   "cell_type": "code",
   "execution_count": null,
   "id": "17633737",
   "metadata": {},
   "outputs": [],
   "source": [
    "data4['Region'].value_counts(dropna=False).reset_index()\n",
    "# detectados 162349 nulos en Region:"
   ]
  },
  {
   "cell_type": "code",
   "execution_count": null,
   "id": "d51fc266",
   "metadata": {},
   "outputs": [],
   "source": []
  },
  {
   "cell_type": "code",
   "execution_count": null,
   "id": "b55daaca",
   "metadata": {},
   "outputs": [],
   "source": [
    "data4.head()\n",
    "\n",
    "# Algunos Identity Features:\n",
    "# client_id, Month, Sex\n",
    "\n",
    "# Algunos Transform Featues:\n",
    "# Client_Age_grp, First_product_dt, Last_product_dt"
   ]
  },
  {
   "cell_type": "code",
   "execution_count": null,
   "id": "63d21279",
   "metadata": {},
   "outputs": [],
   "source": [
    "data5 = data4.copy()\n",
    "\n",
    "data_only_one = data5[(data5['client_id'] == 5856970)]\n",
    "data_only_one[['client_id', 'Region', 'CreditCard_Product', 'Month']]\n",
    "\n",
    "# se ven muchos clientes con region y creditProduct solo en los meses 2019-03 y 2019-04:"
   ]
  },
  {
   "cell_type": "code",
   "execution_count": null,
   "id": "149d19d2",
   "metadata": {},
   "outputs": [],
   "source": [
    "data_region = data5[(data5['Month'] == '2019-04-01')]\n",
    "data_region[['Region', 'Month']].value_counts(dropna=False).reset_index()\n",
    "\n",
    "# existen 6 clientes que no tienen Region para el mes 2019-04:"
   ]
  },
  {
   "cell_type": "code",
   "execution_count": null,
   "id": "a6216505",
   "metadata": {},
   "outputs": [],
   "source": [
    "result_clients = data5[(data5['Month'] == '2019-04-01') & (data5['Region'].isna())]['client_id']\n",
    "result_clients\n",
    "# clientes sin regiones registradas en el mes 2019-04"
   ]
  },
  {
   "cell_type": "code",
   "execution_count": null,
   "id": "c88c944a",
   "metadata": {},
   "outputs": [],
   "source": [
    "# se transfieren las 2 regiones repetidas de cada cliente, a todo el resto de sus meses\n",
    "# para eliminar la mayoria de nulos en Region\n",
    "\n",
    "client_region_map = data5[data5['Month'] == '2019-04-01'].set_index('client_id')['Region'].to_dict()\n",
    "\n",
    "data5['Region'] = data5['client_id'].map(client_region_map)\n",
    "\n",
    "\n",
    "data_only_one = data5[(data5['client_id'] == 5856970)]\n",
    "data_only_one[['client_id', 'Region', 'CreditCard_Product', 'Month']]"
   ]
  },
  {
   "cell_type": "code",
   "execution_count": null,
   "id": "7c2d8b42",
   "metadata": {},
   "outputs": [],
   "source": [
    "# se inserta Desconocido en los 6 clientes con region desconocida\n",
    "# para eliminar los últimos nulos en Region\n",
    "\n",
    "data5.loc[data5['client_id'].isin(result_clients), 'Region'] = 'Desconocido'\n",
    "\n",
    "data_region2 = data5[(data5['Month'] == '2019-04-01')]\n",
    "data_region2[['Region', 'Month']].value_counts(dropna=False).reset_index()"
   ]
  },
  {
   "cell_type": "code",
   "execution_count": null,
   "id": "1fb4fcef",
   "metadata": {},
   "outputs": [],
   "source": [
    "data5['Region'].value_counts(dropna=False).reset_index()\n",
    "\n",
    "# en resumen, paso de 162349 NaN, a 54 desconocidos"
   ]
  },
  {
   "cell_type": "code",
   "execution_count": null,
   "id": "3e0e4f2d",
   "metadata": {},
   "outputs": [],
   "source": [
    "# data5: Dataframe sin nulos en Region\n",
    "data5[['CreditCard_Product']].value_counts(dropna=False).reset_index()\n",
    "# detectados 178520 nulos en CreditCard_Product:"
   ]
  },
  {
   "cell_type": "code",
   "execution_count": null,
   "id": "f8189447",
   "metadata": {},
   "outputs": [],
   "source": [
    "data_credit = data5[(data5['Month'] == '2019-04-01')]\n",
    "data_credit[['CreditCard_Product', 'Month']].value_counts(dropna=False).reset_index()\n",
    "# existen 8102 clientes que no tienen CreditCard_Product para el mes 2019-04:"
   ]
  },
  {
   "cell_type": "code",
   "execution_count": null,
   "id": "ca8932ba",
   "metadata": {},
   "outputs": [],
   "source": [
    "result_clients2 = data5[(data5['Month'] == '2019-04-01') & (data5['CreditCard_Product'].isna())]['client_id']\n",
    "result_clients2\n",
    "# clientes sin credit_product registradas en el mes 2019-04:"
   ]
  },
  {
   "cell_type": "code",
   "execution_count": null,
   "id": "79c34f79",
   "metadata": {},
   "outputs": [],
   "source": [
    "# se transfieren las 2 CreditCard_Product repetidos en 2019-03 y 2019-04 de cada cliente, a todo el resto de sus meses\n",
    "\n",
    "data6 = data5.copy()\n",
    "\n",
    "client_credit_map = data6[data6['Month'] == '2019-04-01'].set_index('client_id')['CreditCard_Product'].to_dict()\n",
    "\n",
    "data6['CreditCard_Product'] = data6['client_id'].map(client_credit_map)\n",
    "\n",
    "\n",
    "data_only_one2 = data6[(data6['client_id'] == 5856970)]\n",
    "data_only_one2[['client_id', 'Region', 'CreditCard_Product', 'Month']]"
   ]
  },
  {
   "cell_type": "code",
   "execution_count": null,
   "id": "ea6f7176",
   "metadata": {},
   "outputs": [],
   "source": [
    "# se inserta Desconocido en los 8102 clientes con CreditCard_Product desconocido\n",
    "\n",
    "data6.loc[data6['client_id'].isin(result_clients2), 'CreditCard_Product'] = 'Desconocido'\n",
    "\n",
    "data_credit2 = data6[(data6['Month'] == '2019-04-01')]\n",
    "data_credit2[['CreditCard_Product', 'Month']].value_counts(dropna=False).reset_index()"
   ]
  },
  {
   "cell_type": "code",
   "execution_count": null,
   "id": "d8ebf7b4",
   "metadata": {},
   "outputs": [],
   "source": [
    "data6[['CreditCard_Product']].value_counts(dropna=False).reset_index()\n",
    "\n",
    "# en resumen, paso de 178520 NaN, a 72918 desconocidos"
   ]
  },
  {
   "cell_type": "code",
   "execution_count": null,
   "id": "89c188af",
   "metadata": {},
   "outputs": [],
   "source": [
    "# data6: Dataframe sin nulos en Region ni CreditCard_Product\n",
    "\n",
    "# Checkeo de outliers\n",
    "pd.set_option('display.max_columns', None)\n",
    "data6.head()"
   ]
  },
  {
   "cell_type": "code",
   "execution_count": null,
   "id": "a05efe8b",
   "metadata": {},
   "outputs": [],
   "source": [
    "data6[['SavingAccount_Balance_FirstDate']].value_counts(dropna=False).reset_index()"
   ]
  },
  {
   "cell_type": "code",
   "execution_count": null,
   "id": "80996ee3",
   "metadata": {},
   "outputs": [],
   "source": [
    "data6_ordered = data6.sort_values('SavingAccount_Balance_FirstDate')\n",
    "data6_ordered[['SavingAccount_Balance_FirstDate']]"
   ]
  },
  {
   "cell_type": "code",
   "execution_count": null,
   "id": "6a6d8267",
   "metadata": {},
   "outputs": [],
   "source": [
    "data6['SavingAccount_Balance_FirstDate'].value_counts().plot(kind='box')"
   ]
  },
  {
   "cell_type": "code",
   "execution_count": null,
   "id": "48d0d90b",
   "metadata": {},
   "outputs": [],
   "source": [
    "data6['SavingAccount_Balance_FirstDate'].describe().apply(lambda x: format(x, 'f'))"
   ]
  },
  {
   "cell_type": "code",
   "execution_count": null,
   "id": "4b6d4269",
   "metadata": {},
   "outputs": [],
   "source": [
    "[x for x in data6.columns if (x.startswith('SavingAccount_') or x.startswith('Operations_') or x.startswith('CreditCard_'))]"
   ]
  },
  {
   "cell_type": "code",
   "execution_count": null,
   "id": "c6f1dd29",
   "metadata": {
    "scrolled": true
   },
   "outputs": [],
   "source": [
    "data6['CreditCard_Total_Limit'].value_counts(dropna=False).reset_index()#describe().apply(lambda x: format(x, 'f'))"
   ]
  },
  {
   "cell_type": "markdown",
   "id": "7af8a66a",
   "metadata": {},
   "source": [
    "#### muchos valores\n",
    "CreditCard_Revolving\n",
    "CreditCard_Spending_Aut_Debits\n",
    "CreditCard_Spending_CrossBoarder\n",
    "CreditCard_Spending_Installments\n",
    "CreditCard_Spending_1_Installment\n",
    "CreditCard_Total_Spending\n",
    "CreditCard_Balance_DOLLAR\n",
    "CreditCard_Balance_ARG\n",
    "SavingAccount_Balance_Average\n",
    "SavingAccount_Balance_FirstDate\n",
    "SavingAccount_Balance_LastDate\n",
    "SavingAccount_Salary_Payment_Amount\n",
    "SavingAccount_Transfer_In_Amount\n",
    "SavingAccount_ATM_Extraction_Amount\n",
    "SavingAccount_Service_Payment_Amount\n",
    "SavingAccount_CreditCard_Payment_Amount\n",
    "SavingAccount_Transfer_Out_Amount\n",
    "SavingAccount_DebitCard_Spend_Amount\n",
    "SavingAccount_Total_Amount\n",
    "SavingAccount_Credits_Amounts\n",
    "SavingAccount_Debits_Amounts\n",
    "\n",
    "#### valores concretos grandes\n",
    "CreditCard_Total_Limit"
   ]
  },
  {
   "cell_type": "code",
   "execution_count": null,
   "id": "136df691",
   "metadata": {},
   "outputs": [],
   "source": [
    "data6['CreditCard_Total_Limit'].describe()#.apply(lambda x: format(x, 'f'))"
   ]
  },
  {
   "cell_type": "code",
   "execution_count": null,
   "id": "05855561",
   "metadata": {},
   "outputs": [],
   "source": [
    "columnas_con_outliers = [col for col in data6.columns if (data6[col].nunique() > 200) and (data6[col].dtype == 'float64')]\n",
    "print(columnas_con_outliers)"
   ]
  },
  {
   "cell_type": "code",
   "execution_count": null,
   "id": "97b5f558",
   "metadata": {},
   "outputs": [],
   "source": [
    "print(len(columnas_con_outliers))"
   ]
  },
  {
   "cell_type": "code",
   "execution_count": null,
   "id": "67e738ed",
   "metadata": {},
   "outputs": [],
   "source": [
    "# data6[data6['client_id'] == 5856970][['client_id', 'Month', 'SavingAccount_Balance_Average']].reset_index()\n",
    "\n",
    "data6['SavingAccount_Balance_Average'].describe().apply(lambda x: format(x, 'f'))"
   ]
  },
  {
   "cell_type": "code",
   "execution_count": null,
   "id": "ef8722fd",
   "metadata": {
    "scrolled": true
   },
   "outputs": [],
   "source": [
    "# ejemplo de borrar outliers\n",
    "p95 = data6[data6.SavingAccount_Balance_Average > 120.0]['SavingAccount_Balance_Average'].quantile(0.95)\n",
    "p99 = data6[data6.SavingAccount_Balance_Average > 120.0]['SavingAccount_Balance_Average'].quantile(0.99)\n",
    "three_sigma = 3 * data6[data6.SavingAccount_Balance_Average > 139.4]['SavingAccount_Balance_Average'].std()\n",
    "\n",
    "print('p95\t\t', p95)\n",
    "print('p99\t\t', p99)\n",
    "print('three_sigma\t', three_sigma)"
   ]
  },
  {
   "cell_type": "code",
   "execution_count": null,
   "id": "a37b1885",
   "metadata": {},
   "outputs": [],
   "source": [
    "sin_outlier = np.where(data6['SavingAccount_Balance_Average'] > three_sigma, three_sigma, data6['SavingAccount_Balance_Average'])\n",
    "sin_outlier_df = pd.DataFrame(sin_outlier, columns=['SavingAccount_Balance_Average'])\n",
    "sin_outlier_df.describe()"
   ]
  },
  {
   "cell_type": "code",
   "execution_count": null,
   "id": "dbd4641a",
   "metadata": {},
   "outputs": [],
   "source": [
    "data7 = data6.copy()\n",
    "for column in columnas_con_outliers:\n",
    "    three_sigma = 3 * data6[data6[column] > 1][column].std()\n",
    "    data7[column] = np.where(data6[column] > three_sigma, three_sigma, data6[column])\n",
    "\n",
    "# data7: nuevo dataframe sin outliers en las 21 columnas"
   ]
  },
  {
   "cell_type": "code",
   "execution_count": null,
   "id": "71dad6d9",
   "metadata": {},
   "outputs": [],
   "source": [
    "data7['SavingAccount_Balance_Average'].describe().apply(lambda x: format(x, 'f'))"
   ]
  },
  {
   "cell_type": "markdown",
   "id": "c8a549d7",
   "metadata": {},
   "source": [
    "data7.head()\n",
    "\n",
    "##### Identity features, columnas para pasar directamente:\n",
    "(todas en el ultimo mes de training)\n",
    "client_id\n",
    "Sex\n",
    "Region\n",
    "Mobile\n",
    "Email\n",
    "CreditCard_Product\n",
    "\n",
    "\n",
    "##### Transform features, agrupamientos, o cantidad de algo\n",
    "numero de insurance y active bools en yes. Opcional convertir a dtype bool para Numero de bools totales en yes\n",
    "Client_Age_grp, pasar a numero\n",
    "diferencia en dias de First_product_dt - Last_product_dt. Diferencia del ultimo con ultimo mes de training\n",
    "\n",
    "##### Aggregate features\n",
    "operaciones, sum avg min max etc, para 6 y para 3 meses, generadas automaticamente, para todas las numericas"
   ]
  },
  {
   "cell_type": "code",
   "execution_count": null,
   "id": "45835ddb",
   "metadata": {},
   "outputs": [],
   "source": [
    "# creacion de la ABT\n",
    "# Ultimo mes de training '2019-01-01'\n",
    "ultimomes = '2019-01-01'\n",
    "data_ultimomes = data7[data7['Month'] == ultimomes].copy()\n",
    "AB_table = data_ultimomes[['client_id', 'Sex', 'Region', 'Mobile', 'Email', 'CreditCard_Product', 'Target']].copy()\n",
    "\n",
    "AB_table.head()\n",
    "print(AB_table['client_id'].nunique())\n",
    "print(AB_table.shape)"
   ]
  },
  {
   "cell_type": "code",
   "execution_count": null,
   "id": "efe3dd4d",
   "metadata": {},
   "outputs": [],
   "source": [
    "sorted(data7['Client_Age_grp'].unique())"
   ]
  },
  {
   "cell_type": "code",
   "execution_count": null,
   "id": "94342c0c",
   "metadata": {},
   "outputs": [],
   "source": [
    "# Cargar edades\n",
    "age_mapping = {\n",
    "    'Menor a 18 años': 0,\n",
    "    'Entre 18 y 29 años': 1,\n",
    "    'Entre 30 y 39 años': 2,\n",
    "    'Entre 40 y 49 años': 3,\n",
    "    'Entre 50 y 59 años': 4,\n",
    "    'Entre 60 y 64 años': 5,\n",
    "    'Entre 65 y 69 años': 6,\n",
    "    'Mayor a 70 años': 7\n",
    "}\n",
    "data_ultimomes.loc[:, 'Client_Age_grp'] = data_ultimomes['Client_Age_grp'].map(age_mapping)\n",
    "\n",
    "AB_table = pd.merge(AB_table, data_ultimomes[['client_id', 'Client_Age_grp']], on='client_id', how='inner')\n",
    "\n",
    "AB_table.head()"
   ]
  },
  {
   "cell_type": "code",
   "execution_count": null,
   "id": "e9b5abdf",
   "metadata": {},
   "outputs": [],
   "source": [
    "# sorted(data7['First_product_dt'], reverse=True)\n",
    "data7[data7['client_id'] == 6370097][['Month', 'First_product_dt']]\n",
    "# no se que significa que a un cliente le cambie la fecha de su primer producto"
   ]
  },
  {
   "cell_type": "code",
   "execution_count": null,
   "id": "20be5adc",
   "metadata": {},
   "outputs": [],
   "source": [
    "data7[data7['First_product_dt'] == '2019-04-17']"
   ]
  },
  {
   "cell_type": "code",
   "execution_count": null,
   "id": "0f7b37ee",
   "metadata": {},
   "outputs": [],
   "source": [
    "# carga de fechas en número\n",
    "from datetime import datetime\n",
    "\n",
    "data_ultimomes['Last_product_dt'] = pd.to_datetime(data_ultimomes['Last_product_dt'])\n",
    "data_ultimomes['First_product_dt'] = pd.to_datetime(data_ultimomes['First_product_dt'])\n",
    "\n",
    "data_ultimomes['days_last_first'] = (data_ultimomes['Last_product_dt'] - data_ultimomes['First_product_dt']).dt.days\n",
    "\n",
    "today_date = datetime.strptime(ultimomes, '%Y-%m-%d')\n",
    "data_ultimomes['days_today_last'] = (today_date - data_ultimomes['Last_product_dt']).dt.days\n",
    "data_ultimomes['days_today_last'] = data_ultimomes['days_today_last'].apply(lambda x: 0 if x < 0 else x)\n",
    "\n",
    "\n",
    "AB_table = pd.merge(AB_table, data_ultimomes[['client_id', 'days_last_first', 'days_today_last']], on='client_id', how='inner')\n",
    "\n",
    "AB_table.head()\n"
   ]
  },
  {
   "cell_type": "code",
   "execution_count": null,
   "id": "cd26b036",
   "metadata": {},
   "outputs": [],
   "source": [
    "AB_table['days_last_first'].describe()"
   ]
  },
  {
   "cell_type": "code",
   "execution_count": null,
   "id": "d294a3ff",
   "metadata": {},
   "outputs": [],
   "source": [
    "AB_table['days_today_last'].describe()"
   ]
  },
  {
   "cell_type": "code",
   "execution_count": null,
   "id": "8b5c9446",
   "metadata": {},
   "outputs": [],
   "source": [
    "# cargar conteo de bools\n",
    "\n",
    "# [col for col in data7.columns if data7[col].dtype == 'bool']\n",
    "active_columns = [x for x in data7.columns if 'Active' in x]\n",
    "insurance_columns = [x for x in data7.columns if x.startswith('Insurance_')]\n",
    "\n",
    "data_ultimomes['active_count'] = (data_ultimomes[active_columns] == 'Yes').sum(axis=1)\n",
    "data_ultimomes['insurance_count'] = (data_ultimomes[insurance_columns] == 'Yes').sum(axis=1)\n",
    "# data_ultimomes[data_ultimomes['client_id'] == 6370097].head()\n",
    "\n",
    "AB_table = pd.merge(AB_table, data_ultimomes[['client_id', 'active_count', 'insurance_count']], on='client_id', how='inner')\n",
    "\n",
    "AB_table.head()"
   ]
  },
  {
   "cell_type": "code",
   "execution_count": null,
   "id": "b77605e7",
   "metadata": {},
   "outputs": [],
   "source": [
    "AB_table['insurance_count'].describe()"
   ]
  },
  {
   "cell_type": "code",
   "execution_count": null,
   "id": "f096a9d5",
   "metadata": {},
   "outputs": [],
   "source": [
    "# en el mes '2019-01-01' nadie tiene insurance (a diferencia de '2019-03-01' y '2019-04-01' si), borro la columna\n",
    "AB_table = AB_table.drop('insurance_count', axis=1)\n",
    "print(AB_table.shape)"
   ]
  },
  {
   "cell_type": "code",
   "execution_count": null,
   "id": "82bcb89b",
   "metadata": {},
   "outputs": [],
   "source": [
    "# cargar aggregate features\n",
    "\n",
    "seis_meses = ['2018-08-01',\n",
    "             '2018-09-01',\n",
    "             '2018-10-01',\n",
    "             '2018-11-01',\n",
    "             '2018-12-01',\n",
    "             '2019-01-01']\n",
    "tres_meses = ['2018-11-01',\n",
    "             '2018-12-01',\n",
    "             '2019-01-01']\n",
    "\n",
    "seis_data = data7[data7['Month'].isin(seis_meses)]\n",
    "tres_data = data7[data7['Month'].isin(tres_meses)]\n",
    "\n",
    "columnas_agg = [col for col in data7.columns if ((data7[col].dtype == 'float64') and (col not in (['Target', 'client_id'])))]\n",
    "\n",
    "# np.sum, np.amax, np.min, np.mean, np.median, np.count_nonzero, 'nunique', np.var\n",
    "agg_feat6 = seis_data.groupby(['client_id'])[columnas_agg].agg([np.sum, np.amax, np.min, np.mean, np.median, np.count_nonzero, 'nunique', np.var])\n",
    "agg_feat3 = tres_data.groupby(['client_id'])[columnas_agg].agg([np.sum, np.amax, np.min, np.mean, np.median, np.count_nonzero, 'nunique', np.var])\n",
    "\n",
    "agg_feat6.columns = ['_seis_'.join(x) for x in np.array(agg_feat6.columns)]\n",
    "agg_feat3.columns = ['_tres_'.join(x) for x in np.array(agg_feat3.columns)]\n"
   ]
  },
  {
   "cell_type": "code",
   "execution_count": null,
   "id": "948c34da",
   "metadata": {},
   "outputs": [],
   "source": [
    "# agg_feat.head(20).T\n",
    "\n",
    "agg_feat = pd.merge(agg_feat6, agg_feat3[agg_feat3.columns], on='client_id', how='inner')\n",
    "\n",
    "agg_feat.head()"
   ]
  },
  {
   "cell_type": "code",
   "execution_count": null,
   "id": "addd9b8b",
   "metadata": {},
   "outputs": [],
   "source": [
    "agg_feat.shape"
   ]
  },
  {
   "cell_type": "code",
   "execution_count": null,
   "id": "c7c93f1f",
   "metadata": {},
   "outputs": [],
   "source": []
  },
  {
   "cell_type": "code",
   "execution_count": null,
   "id": "bc091fb0",
   "metadata": {},
   "outputs": [],
   "source": [
    "agg_feat_corr = agg_feat.reset_index().copy()\n",
    "# Create correlation matrix\n",
    "\n",
    "corr_matrix = agg_feat_corr.drop('client_id', axis=1).corr().abs()\n",
    "\n",
    "# Select upper triangle of correlation matrix\n",
    "\n",
    "upper = corr_matrix.where(np.triu(np.ones(corr_matrix.shape), k=1).astype(bool)).fillna(0)\n",
    "\n",
    "# Find features with correlation greater than 0.80\n",
    "\n",
    "to_drop = [column for column in upper.columns if any(upper[column] > 0.80)]\n",
    "\n",
    "upper.reset_index().to_csv(r'C:\\Users\\Nico\\Documents\\Jupyter\\corr\\correlacion.csv' , \n",
    "                           sep='|',  header=True , encoding='ANSI', index=False)\n",
    "\n",
    "print(to_drop)\n",
    "\n",
    "# Drop features \n",
    "\n",
    "agg_feat_corr.drop(to_drop, axis=1, inplace = True)\n",
    "\n",
    "agg_feat_corr.shape\n"
   ]
  },
  {
   "cell_type": "code",
   "execution_count": null,
   "id": "847b667f",
   "metadata": {},
   "outputs": [],
   "source": [
    "agg_feat_corr.head()"
   ]
  },
  {
   "cell_type": "code",
   "execution_count": null,
   "id": "db298eee",
   "metadata": {},
   "outputs": [],
   "source": [
    "# correr scaler\n",
    "from sklearn.preprocessing import StandardScaler\n",
    "\n",
    "model = agg_feat_corr\n",
    "\n",
    "names = [x for x in model.columns if (x != 'client_id') & (x != 'Target')]\n",
    "\n",
    "scaler = StandardScaler(copy=True)\n",
    "scaler.fit(model[names])\n",
    "scaled_est = scaler.transform(model[names])\n",
    "scaled_est = pd.DataFrame(scaled_est, columns=names, index=model.index)\n",
    "\n",
    "model.drop(names, axis=1, inplace=True)\n",
    "model = pd.concat((model, scaled_est), axis=1, sort=False)\n"
   ]
  },
  {
   "cell_type": "code",
   "execution_count": null,
   "id": "4d8df740",
   "metadata": {},
   "outputs": [],
   "source": [
    "model.head()"
   ]
  },
  {
   "cell_type": "code",
   "execution_count": null,
   "id": "eac3a5ee",
   "metadata": {},
   "outputs": [],
   "source": [
    "AB_table = pd.merge(AB_table, model[model.columns], on='client_id', how='inner')\n",
    "\n",
    "AB_table.head()"
   ]
  },
  {
   "cell_type": "code",
   "execution_count": null,
   "id": "ea466503",
   "metadata": {},
   "outputs": [],
   "source": [
    "AB_table.shape"
   ]
  },
  {
   "cell_type": "code",
   "execution_count": null,
   "id": "13f0db09",
   "metadata": {},
   "outputs": [],
   "source": [
    "AB_table"
   ]
  },
  {
   "cell_type": "code",
   "execution_count": null,
   "id": "07cef18d",
   "metadata": {
    "scrolled": true
   },
   "outputs": [],
   "source": [
    "\n",
    "#agg_feat_corr.head()\n",
    "\n",
    "target_column = 'Target'\n",
    "numerical_cols = [x for x in model.columns if (x != 'client_id') & (x != target_column)]\n",
    "original_cols = ['client_id', 'Target', 'Client_Age_grp', 'days_last_first', 'days_today_last', 'active_count']\n",
    "\n",
    "print(numerical_cols)\n",
    "\n",
    "ABT_model = AB_table[np.append(original_cols, numerical_cols)].copy()"
   ]
  },
  {
   "cell_type": "code",
   "execution_count": null,
   "id": "3ede84d2",
   "metadata": {},
   "outputs": [],
   "source": [
    "# evaluar mejores variables\n",
    "\n",
    "# conda install -c conda-forge lightgbm\n",
    "from scipy.stats import randint as sp_randint\n",
    "from scipy.stats import uniform as sp_uniform\n",
    "import lightgbm as lgb\n",
    "from sklearn.metrics import roc_auc_score\n",
    "\n",
    "fit_params={#\"early_stopping_rounds\":100,\n",
    "           \"eval_metric\": 'auc',\n",
    "           \"eval_set\": [(ABT_model[numerical_cols], ABT_model[target_column])]\n",
    "            #,\"verbose\": 100\n",
    "           }\n",
    "param_test = {'num_leaves': np.arange(5, 20, 1),\n",
    "             'min_data_in_leaf': np.arange(10, 100, 1),\n",
    "             'subsample': sp_uniform(loc=0.2, scale=0.8),\n",
    "             'max_depth': np.arange(5, 20, 1),\n",
    "             'n_estimators': np.arange(20, 100, 1)\n",
    "             }\n",
    "n_HP_points_to_test = 100\n",
    "\n",
    "import lightgbm as lgb\n",
    "from sklearn.model_selection import RandomizedSearchCV, GridSearchCV\n",
    "\n",
    "clf = lgb.LGBMClassifier(random_state=314, silent=True, metric='None', nfold=5, njobs=4, early_stopping_rounds=100)\n",
    "\n",
    "gs = RandomizedSearchCV(estimator=clf, param_distributions=param_test,\n",
    "                       n_iter=n_HP_points_to_test,\n",
    "                       scoring='roc_auc',\n",
    "                       cv=3,\n",
    "                       refit=True,\n",
    "                       random_state=314,\n",
    "                       verbose=True,\n",
    "                       error_score='raise')\n",
    "\n",
    "gs.fit(ABT_model[numerical_cols], ABT_model[target_column], **fit_params)\n",
    "#feat_imp = pd.Series(gs.best_estimator_.feature_importances, index=ABT_model[numerical_cols].columns)\n",
    "feat_imp = pd.Series(gs.best_estimator_.booster_.feature_importance(importance_type='gain'), index=ABT_model[numerical_cols].columns)\n",
    "\n"
   ]
  },
  {
   "cell_type": "code",
   "execution_count": null,
   "id": "3e6e1734",
   "metadata": {},
   "outputs": [],
   "source": [
    "feat_imp.nlargest(20).plot(kind='barh', figsize=(8, 10))"
   ]
  },
  {
   "cell_type": "code",
   "execution_count": null,
   "id": "c70ee1f3",
   "metadata": {},
   "outputs": [],
   "source": [
    "feat_imp.nlargest(20)"
   ]
  },
  {
   "cell_type": "code",
   "execution_count": null,
   "id": "609ca4aa",
   "metadata": {},
   "outputs": [],
   "source": [
    "top_variables = feat_imp.nlargest(20).index.tolist()"
   ]
  },
  {
   "cell_type": "code",
   "execution_count": null,
   "id": "756dc747",
   "metadata": {},
   "outputs": [],
   "source": [
    "# Rename para bivariado\n",
    "ABT = ABT_model.copy()\n",
    "ABT.rename(columns={'client_id': 'idx'}, inplace=True)\n",
    "ABT.rename(columns={'Target': 'TGT'}, inplace=True)\n",
    "ABT.head()"
   ]
  },
  {
   "cell_type": "code",
   "execution_count": null,
   "id": "7f8699cf",
   "metadata": {},
   "outputs": [],
   "source": [
    "# Ejemplo de creación de bivariados\n",
    "\n",
    "%run ./Graficos_v2.py\n",
    "\n",
    "\n",
    "\n",
    "vars = ['idx', 'TGT', 'CreditCard_Total_Spending_seis_sum']\n",
    "\n",
    "Graficar_Variables2(ABT[vars], [], 'TGT')"
   ]
  },
  {
   "cell_type": "code",
   "execution_count": null,
   "id": "9e047a69",
   "metadata": {},
   "outputs": [],
   "source": [
    "final_variables = np.append(['client_id', 'Target'], top_variables)\n",
    "\n",
    "# Split in train and Test\n",
    "from sklearn.model_selection import train_test_split\n",
    "x_train, x_test = train_test_split(ABT_model[final_variables], test_size=0.3, random_state=420, stratify=ABT_model['Target'])\n",
    "\n",
    "print(x_train.Target.value_counts())\n",
    "print(x_test.Target.value_counts())"
   ]
  },
  {
   "cell_type": "code",
   "execution_count": null,
   "id": "5682dc22",
   "metadata": {},
   "outputs": [],
   "source": [
    "x_train.head()"
   ]
  },
  {
   "cell_type": "code",
   "execution_count": null,
   "id": "e829e363",
   "metadata": {},
   "outputs": [],
   "source": [
    "# Entrenar\n",
    "\n",
    "fit_params2={#\"early_stopping_rounds\":100,\n",
    "           \"eval_metric\": 'auc',\n",
    "           \"eval_set\": [(x_test[top_variables], x_test[target_column])]\n",
    "            #,\"verbose\": 100\n",
    "           }\n",
    "param_test2 = {'num_leaves': np.arange(3, 8, 1),\n",
    "             'min_child_samples': np.arange(300, 1000, 100),\n",
    "             'learning_rate': [0.05,0.1,0.2,0.01],\n",
    "             'max_depth': np.arange(4, 10, 1),\n",
    "             'n_estimators': np.arange(6, 20, 1)\n",
    "             }\n",
    "n_HP_points_to_test = 100\n",
    "\n",
    "\n",
    "clf2 = lgb.LGBMClassifier(random_state=314, silent=True, metric='None', njobs=4, early_stopping_rounds=100)\n",
    "\n",
    "gs2 = RandomizedSearchCV(estimator=clf2, param_distributions=param_test2,\n",
    "                       n_iter=n_HP_points_to_test,\n",
    "                       scoring='roc_auc',\n",
    "                       cv=3,\n",
    "                       refit=True,\n",
    "                       random_state=314,\n",
    "                       verbose=True,\n",
    "                       error_score='raise')\n",
    "\n",
    "gs2.fit(x_train[top_variables], x_train[target_column], **fit_params2)\n",
    "#feat_imp = pd.Series(gs2.best_estimator_.feature_importances, index=ABT_model[top_variables].columns)\n",
    "feat_imp2 = pd.Series(gs2.best_estimator_.booster_.feature_importance(importance_type='gain'), index=x_train[top_variables].columns)\n",
    "\n"
   ]
  },
  {
   "cell_type": "code",
   "execution_count": null,
   "id": "30b677f4",
   "metadata": {},
   "outputs": [],
   "source": [
    "feat_imp2.nlargest(20).plot(kind='barh', figsize=(8, 10))"
   ]
  },
  {
   "cell_type": "code",
   "execution_count": null,
   "id": "7378d152",
   "metadata": {},
   "outputs": [],
   "source": []
  },
  {
   "cell_type": "code",
   "execution_count": null,
   "id": "3737a965",
   "metadata": {},
   "outputs": [],
   "source": [
    "# Scoreo la base completa con el modelo final (mejores hiperparametros)\n",
    "clf_final_train = gs2\n",
    "\n",
    "\n",
    "from sklearn.metrics import mean_squared_error\n",
    "\n",
    "probabilities_train = clf_final_train.predict_proba(x_train[top_variables])\n",
    "probabilities       = clf_final_train.predict_proba(x_test[top_variables])\n",
    "\n",
    "\n",
    "# Con esto obtenes los deciles, cantidad de personas, buenas y total, junto a la cota de probabilidad por decil para training\n",
    "\n",
    "a = pd.DataFrame(x_train[['client_id', target_column]], columns=['Target', 'client_id'])\n",
    "a = a.reset_index()\n",
    "b = pd.DataFrame(probabilities_train[:,1], columns=['Prob1'])\n",
    "\n",
    "result = pd.concat([a, b], axis=1)\n",
    "result['porc'] = result['Prob1'].rank(pct=True) * 100\n",
    "len(probabilities[:,1])\n",
    "\n",
    "result.loc[result['porc'].between(0, 10, inclusive='neither'), 'decil'] = '10'\n",
    "result.loc[result['porc'].between(10, 20, inclusive='both'), 'decil'] = '9'\n",
    "result.loc[result['porc'].between(20, 30, inclusive='neither'), 'decil'] = '8'\n",
    "result.loc[result['porc'].between(30, 40, inclusive='both'), 'decil'] = '7'\n",
    "result.loc[result['porc'].between(40, 50, inclusive='neither'), 'decil'] = '6'\n",
    "result.loc[result['porc'].between(50, 60, inclusive='both'), 'decil'] = '5'\n",
    "result.loc[result['porc'].between(60, 70, inclusive='neither'), 'decil'] = '4'\n",
    "result.loc[result['porc'].between(70, 80, inclusive='both'), 'decil'] = '3'\n",
    "result.loc[result['porc'].between(80, 90, inclusive='neither'), 'decil'] = '2'\n",
    "result.loc[result['porc'].between(90, 101, inclusive='both'), 'decil'] = '1'\n",
    "\n",
    "print(result.decil.value_counts().reset_index().sort_values(by=['decil'], key=lambda x: x.astype(int)))\n",
    "print(result[result.Target == 1].decil.value_counts().reset_index().sort_values(by=['decil'], key=lambda x: x.astype(int)))\n",
    "\n",
    "a = result.groupby('decil')['Prob1'].agg(min)\n",
    "print(a)\n"
   ]
  },
  {
   "cell_type": "code",
   "execution_count": null,
   "id": "6b6fd93a",
   "metadata": {},
   "outputs": [],
   "source": [
    "\n",
    "\n",
    "# test \n",
    "\n",
    "a = pd.DataFrame(x_test[[target_column, 'client_id']], columns=['Target', 'client_id'])\n",
    "a = a.reset_index()\n",
    "b = pd.DataFrame(probabilities[:,1], columns=['Prob1'])\n",
    "\n",
    "result = pd.concat([a, b], axis=1)\n",
    "\n",
    "result['porc'] = result['Prob1'].rank(pct=True) * 100\n",
    "\n",
    "result['decil'] = np.where(result.Prob1 >= 0.636058               , 1, \n",
    "                            np.where((result.Prob1 >=  0.495332) & (result.Prob1 <  0.636058       ), 2,\n",
    "                            np.where((result.Prob1 >=  0.390821) & (result.Prob1 < 0.495332        ) , 3,\n",
    "                            np.where((result.Prob1 >=  0.314308) & (result.Prob1 < 0.390821        ), 4,\n",
    "                            np.where((result.Prob1 >=  0.232692) & (result.Prob1 < 0.314308        ), 5,\n",
    "                            np.where((result.Prob1 >=  0.154669) & (result.Prob1 < 0.232692        ), 6,\n",
    "                            np.where((result.Prob1 >=  0.035695) & (result.Prob1 < 0.154669        ) , 7,\n",
    "                            np.where((result.Prob1 >=  0.025761) & (result.Prob1 < 0.035695        ), 8,\n",
    "                            np.where((result.Prob1 >=  0.025717) & (result.Prob1 < 0.025761        ), 9,\n",
    "                            10)))))))))\n",
    "\n",
    "print(result.decil.value_counts().reset_index().sort_values(by=['decil'], key=lambda x: x.astype(int)))\n",
    "\n",
    "print(result[result.Target == 1].decil.value_counts().reset_index().sort_values(by=['decil'], key=lambda x: x.astype(int)))\n"
   ]
  },
  {
   "cell_type": "code",
   "execution_count": null,
   "id": "084176de",
   "metadata": {},
   "outputs": [],
   "source": [
    "import matplotlib.pyplot as plt\n",
    "from sklearn.metrics import roc_curve, auc\n",
    "\n",
    "probabilities_train2 = clf_final_train.predict_proba(x_train[top_variables])[:, 1]\n",
    "y_train = x_train[target_column].values\n",
    "\n",
    "fpr_train, tpr_train, thresholds_train = roc_curve(x_train[target_column], probabilities_train2)\n",
    "roc_auc_train = auc(fpr_train, tpr_train)\n",
    "\n",
    "# Calculate ROC curve for training set\n",
    "fpr_train, tpr_train, thresholds_train = roc_curve(y_train, probabilities_train2)\n",
    "roc_auc_train = auc(fpr_train, tpr_train)\n",
    "\n",
    "# Plot ROC curve\n",
    "plt.figure(figsize=(8, 8))\n",
    "plt.plot(fpr_train, tpr_train, color='darkorange', lw=2, label='Train ROC curve (area = {:.2f})'.format(roc_auc_train))\n",
    "plt.plot([0, 1], [0, 1], color='gray', lw=2, linestyle='--', label='Random')\n",
    "plt.xlabel('False Positive Rate')\n",
    "plt.ylabel('True Positive Rate')\n",
    "plt.title('Receiver Operating Characteristic (ROC) Curve')\n",
    "plt.legend(loc='lower right')\n",
    "plt.show()"
   ]
  },
  {
   "cell_type": "code",
   "execution_count": null,
   "id": "7d263ea7",
   "metadata": {},
   "outputs": [],
   "source": []
  },
  {
   "cell_type": "code",
   "execution_count": null,
   "id": "2d10c59e",
   "metadata": {},
   "outputs": [],
   "source": []
  },
  {
   "cell_type": "code",
   "execution_count": null,
   "id": "cf1906e4",
   "metadata": {},
   "outputs": [],
   "source": []
  }
 ],
 "metadata": {
  "kernelspec": {
   "display_name": "Python 3 (ipykernel)",
   "language": "python",
   "name": "python3"
  },
  "language_info": {
   "codemirror_mode": {
    "name": "ipython",
    "version": 3
   },
   "file_extension": ".py",
   "mimetype": "text/x-python",
   "name": "python",
   "nbconvert_exporter": "python",
   "pygments_lexer": "ipython3",
   "version": "3.11.4"
  }
 },
 "nbformat": 4,
 "nbformat_minor": 5
}
